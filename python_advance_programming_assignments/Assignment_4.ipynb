{
 "cells": [
  {
   "cell_type": "markdown",
   "metadata": {},
   "source": [
    "1. In mathematics, the Fibonacci numbers, commonly denoted Fn, form a\n",
    "sequence, called the Fibonacci sequence, such that each number is the sum\n",
    "of the two preceding ones, starting from 0 and 1:\n",
    "\n",
    "The beginning of the sequence is this:\n",
    "0, 1, 1, 2, 3, 5, 8, 13, 21, 34, 55, 89, 144, ...\n",
    "The function fastFib(num) returns the fibonacci number Fn, of the given num\n",
    "as an argument.\n",
    "Examples\n",
    "fib_fast(5) ➞ 5\n",
    "fib_fast(10) ➞ 55\n",
    "fib_fast(20) ➞ 6765\n",
    "fib_fast(50) ➞ 12586269025\n"
   ]
  },
  {
   "cell_type": "markdown",
   "metadata": {},
   "source": [
    "2. Create a function that takes a strings characters as ASCII and returns each\n",
    "characters hexadecimal value as a string.\n",
    "Examples\n",
    "convert_to_hex(&quot;hello world&quot;) ➞ &quot;68 65 6c 6c 6f 20 77 6f 72 6c 64&quot;\n",
    "convert_to_hex(&quot;Big Boi&quot;) ➞ &quot;42 69 67 20 42 6f 69&quot;\n",
    "convert_to_hex(&quot;Marty Poppinson&quot;) ➞ &quot;4d 61 72 74 79 20 50 6f 70 70 69 6e\n",
    "73 6f 6e&quot;\n",
    "\n"
   ]
  },
  {
   "cell_type": "markdown",
   "metadata": {},
   "source": [
    "3. Someone has attempted to censor my strings by replacing every vowel\n",
    "with a *, l*k* th*s. Luckily, I&#39;ve been able to find the vowels that were\n",
    "removed.\n",
    "Given a censored string and a string of the censored vowels, return the\n",
    "original uncensored string.\n",
    "Example\n",
    "uncensor(&quot;Wh*r* d*d my v*w*ls g*?&quot;, &quot;eeioeo&quot;) ➞ &quot;Where did my vowels go?&quot;\n",
    "uncensor(&quot;abcd&quot;, &quot;&quot;) ➞ &quot;abcd&quot;\n",
    "uncensor(&quot;*PP*RC*S*&quot;, &quot;UEAE&quot;) ➞ &quot;UPPERCASE&quot;\n"
   ]
  },
  {
   "cell_type": "markdown",
   "metadata": {},
   "source": [
    "4. Write a function that takes an IP address and returns the domain name\n",
    "using PTR DNS records.\n",
    "Example\n",
    "get_domain(&quot;8.8.8.8&quot;) ➞ &quot;dns.google&quot;\n",
    "get_domain(&quot;8.8.4.4&quot;) ➞ &quot;dns.google&quot;\n",
    "\n"
   ]
  },
  {
   "cell_type": "markdown",
   "metadata": {},
   "source": [
    "5. Create a function that takes an integer n and returns the factorial of\n",
    "factorials. See below examples for a better understanding:\n",
    "Examples\n",
    "fact_of_fact(4) ➞ 288\n",
    "# 4! * 3! * 2! * 1! = 288\n",
    "fact_of_fact(5) ➞ 34560\n",
    "fact_of_fact(6) ➞ 24883200"
   ]
  }
 ],
 "metadata": {
  "language_info": {
   "name": "python"
  },
  "orig_nbformat": 4
 },
 "nbformat": 4,
 "nbformat_minor": 2
}
