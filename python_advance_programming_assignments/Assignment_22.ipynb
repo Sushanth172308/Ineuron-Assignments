{
 "cells": [
  {
   "cell_type": "markdown",
   "metadata": {},
   "source": [
    "1. Create a class Smoothie and do the following:\n",
    "- Create an instance attribute called ingredients.\n",
    "- Create a get_cost method which calculates the total cost of the\n",
    "ingredients used to make the smoothie.\n",
    "- Create a get_price method which returns the number from get_cost plus\n",
    "the number from get_cost multiplied by 1.5. Round to two decimal places.\n",
    "- Create a get_name method which gets the ingredients and puts them in\n",
    "alphabetical order into a nice descriptive sentence. If there are multiple\n",
    "ingredients, add the word &quot;Fusion&quot; to the end but otherwise, add &quot;Smoothie&quot;.\n",
    "Remember to change &quot;-berries&quot; to &quot;-berry&quot;. See the examples below.\n",
    "Ingredient Price\n",
    "Strawberries $1.50\n",
    "Banana $0.50\n",
    "Mango $2.50\n",
    "Blueberries $1.00\n",
    "Raspberries $1.00\n",
    "Apple $1.75\n",
    "Pineapple $3.50\n",
    "Examples\n",
    "s1 = Smoothie([&quot;Banana&quot;])\n",
    "s1.ingredients ➞ [&quot;Banana&quot;]\n",
    "s1.get_cost() ➞ &quot;$0.50&quot;\n",
    "s1.get_price() ➞ &quot;$1.25&quot;\n",
    "s1.get_name() ➞ &quot;Banana Smoothie&quot;\n",
    "s2 = Smoothie([&quot;Raspberries&quot;, &quot;Strawberries&quot;, &quot;Blueberries&quot;])\n",
    "s2.ingredients ➞ [&quot;Raspberries&quot;, &quot;Strawberries&quot;, &quot;Blueberries&quot;]\n",
    "s2.get_cost() ➞ &quot;$3.50&quot;\n",
    "s2.get_price() ➞ &quot;$8.75&quot;\n",
    "s2.get_name() ➞ &quot;Blueberry Raspberry Strawberry Fusion&quot;\n",
    "\n"
   ]
  },
  {
   "cell_type": "markdown",
   "metadata": {},
   "source": [
    "2. Your task is to write a program which allows teachers to create a multiple\n",
    "choice test in a class called Testpaper and to be also able to assign a\n",
    "minimum pass mark. The testpaper&#39;s subject should also be included. The\n",
    "attributes are in the following order:\n",
    "1. subject\n",
    "2. markscheme\n",
    "3. pass_mark\n",
    "As well as that, we need to create student objects to take the test itself!\n",
    "Create another class called Student and do the following:\n",
    "- Create an attribute called tests_taken and set the default as &#39;No tests\n",
    "taken&#39;.\n",
    "- Make a method called take_test(), which takes in the testpaper object they\n",
    "are completing and the student&#39;s answers. Compare what they wrote to the\n",
    "mark scheme, and append to the/create a dictionary assigned to tests_taken\n",
    "in the way as shown in the point below.\n",
    "- Each key in the dictionary should be the testpaper subject and each value\n",
    "should be a string in the format seen in the examples below (whether or not\n",
    "the student has failed, and their percentage in brackets).\n",
    "Examples\n",
    "paper1 = Testpaper(&quot;Maths&quot;, [&quot;1A&quot;, &quot;2C&quot;, &quot;3D&quot;, &quot;4A&quot;, &quot;5A&quot;], &quot;60%&quot;)\n",
    "paper2 = Testpaper(&quot;Chemistry&quot;, [&quot;1C&quot;, &quot;2C&quot;, &quot;3D&quot;, &quot;4A&quot;], &quot;75%&quot;)\n",
    "paper3 = Testpaper(&quot;Computing&quot;, [&quot;1D&quot;, &quot;2C&quot;, &quot;3C&quot;, &quot;4B&quot;, &quot;5D&quot;, &quot;6C&quot;, &quot;7A&quot;],\n",
    "&quot;75%&quot;)\n",
    "student1 = Student()\n",
    "student2 = Student()\n",
    "student1.tests_taken ➞ &quot;No tests taken&quot;\n",
    "student1.take_test(paper1, [&quot;1A&quot;, &quot;2D&quot;, &quot;3D&quot;, &quot;4A&quot;, &quot;5A&quot;])\n",
    "student1.tests_taken ➞ {&quot;Maths&quot; : &quot;Passed! (80%)&quot;}\n",
    "student2.take_test(paper2, [&quot;1C&quot;, &quot;2D&quot;, &quot;3A&quot;, &quot;4C&quot;])\n",
    "student2.take_test(paper3, [&quot;1A&quot;, &quot;2C&quot;, &quot;3A&quot;, &quot;4C&quot;, &quot;5D&quot;, &quot;6C&quot;, &quot;7B&quot;])\n",
    "student2.tests_taken ➞ {&quot;Chemistry&quot; : &quot;Failed! (25%)&quot;, &quot;Computing&quot; : &quot;Failed!\n",
    "(43%)&quot;}\n"
   ]
  },
  {
   "cell_type": "markdown",
   "metadata": {},
   "source": [
    "3. Due to unforseen circumstances in Suburbia, the trains will be delayed by\n",
    "a further 10 minutes.\n",
    "\n",
    "Create a function that will help to plan out and manage these delays! Create\n",
    "a function called manage_delays that does the following:\n",
    "- Parameters will be the train object, a destination and number of minutes\n",
    "the delay is.\n",
    "- Increment to the train object&#39;s expected_time by the delay, if the\n",
    "destination given is in the train object&#39;s destinations.\n",
    "Examples\n",
    "trains = [\n",
    "Train([&quot;Townsville&quot;, &quot;Suburbia&quot;, &quot;Urbantska&quot;], &quot;13:04&quot;),\n",
    "Train([&quot;Farmsdale&quot;, &quot;Suburbia&quot;, &quot;Lakeside Valley&quot;], &quot;13:20&quot;),\n",
    "Train([&quot;Suburbia&quot;, &quot;Townsville&quot;, &quot;Lakeside Valley&quot;], &quot;13:22&quot;)\n",
    "]\n",
    "for t in trains:\n",
    "manage_delays(t, &quot;Lakeside Valley&quot;, 60)\n",
    "trains[0].expected_time ➞ &quot;13:04&quot;\n",
    "trains[1].expected_time ➞ &quot;14:20&quot;\n",
    "trains[2].expected_time ➞ &quot;14:22&quot;\n"
   ]
  },
  {
   "cell_type": "markdown",
   "metadata": {},
   "source": [
    "4. Ted works as a computer programmer at Minecraft Inc. His boss has just\n",
    "given him an important assignment to update the code for the minecart tracks\n",
    "by the end of April. However, he has recently had to self-isolate due to\n",
    "Corvid-19 and has left the code for the tracks BACK AT WORK!! He has the\n",
    "shorthand for the tracks he&#39;s supposed to look at, and where the carts are\n",
    "suppost to end up, but not the actual code.\n",
    "He knows that:\n",
    "1. &quot;--&gt;&quot; = &quot;Speed-Up Track&quot; ⁠— If a minecart interacts with this track, it&#39;s\n",
    "velocity increases by 2.67 BPS unless it&#39;s at its maximum speed of 8 BPS.\n",
    "2. &quot;&lt;--&gt;&quot; = &quot;Powered Track&quot; ⁠— If a minecart interacts with this track, it&#39;s\n",
    "velocity remains the same.\n",
    "3. &quot;&lt;--&quot; = &quot;Slow-Down Track&quot; ⁠— If a minecart interacts with this track, it&#39;s\n",
    "velocity decreases by 2.67 BPS unless it&#39;s velocity equals 0, at which point it\n",
    "stops.\n",
    "4. &quot;---&quot; = &quot;Unpowered Track&quot; ⁠— If a minecart interacts with this track, it&#39;s\n",
    "velocity decreases by 1 BPS unless it&#39;s velocity equals 0, at which point it\n",
    "stops.\n",
    "\n",
    "Help Ted by writing a class for the tracks that interact with the provided\n",
    "Minecart class as shown above. And then write a function that will take a list\n",
    "of the shorthand tracks and:\n",
    "- If the Minecart reaches the last peice of Track, return True.\n",
    "- Else return the index of the Track where the Minecart stops.\n",
    "Examples\n",
    "mine_run([&quot;--&gt;&quot;, &quot;--&gt;&quot;, &quot;--&gt;&quot;, &quot;&lt;--&quot;, &quot;&lt;--&quot;, &quot;&lt;--&quot;]) ➞ True\n",
    "mine_run([&quot;--&gt;&quot;, &quot;&lt;--&quot;, &quot;--&gt;&quot;, &quot;--&gt;&quot;, &quot;&lt;--&gt;&quot;, &quot;---&quot;]) ➞ 1\n"
   ]
  },
  {
   "cell_type": "markdown",
   "metadata": {},
   "source": [
    "5. Make a Rectangle class with four parameters, an x, a y (representing the\n",
    "top-left corner of the rectangle), a width and a height exclusively in that order.\n",
    "Lastly, make a function intersecting that takes two Rectangle objects and\n",
    "returns True if those objects are intersecting (colliding), else return False.\n",
    "Examples\n",
    "a = Rectangle(10, 20, 100, 20)\n",
    "b = Rectangle(10, 40, 15, 20)\n",
    "c = Rectangle(50, 50, 20, 30)\n",
    "intersecting(a, b) ➞ True\n",
    "intersecting(a, c) ➞ False\n",
    "intersecting(b, c) ➞ True"
   ]
  }
 ],
 "metadata": {
  "kernelspec": {
   "display_name": "Python 3.8.13 (conda)",
   "language": "python",
   "name": "python3"
  },
  "language_info": {
   "name": "python",
   "version": "3.8.13"
  },
  "orig_nbformat": 4,
  "vscode": {
   "interpreter": {
    "hash": "83aca62f18954cf13f96418a44a5b107d52f853e6c55d41e444eea0993e5d51e"
   }
  }
 },
 "nbformat": 4,
 "nbformat_minor": 2
}
