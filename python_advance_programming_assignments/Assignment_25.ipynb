{
 "cells": [
  {
   "cell_type": "markdown",
   "metadata": {},
   "source": [
    "1. Write four functions that directly mutate a list:\n",
    "1. repeat(lst, n): Repeat lst n times.\n",
    "2. add(lst, x): Adds x to the end of the lst.\n",
    "3. remove(lst, m, n): Removes all elements between indices m and n\n",
    "inclusive in lst.\n",
    "4. concat(lst, x): concatenates lst with x (another list).\n",
    "Examples\n",
    "lst = [1, 2, 3, 4]\n",
    "repeat(lst, 3) ➞ [1, 2, 3, 4, 1, 2, 3, 4, 1, 2, 3, 4]\n",
    "add(lst, 1) ➞ [1, 2, 3, 4, 1, 2, 3, 4, 1, 2, 3, 4, 1]\n",
    "remove(lst, 1, 12) ➞ [1]\n",
    "concat(lst, [3, 4]) ➞ [1, 3, 4]\n"
   ]
  },
  {
   "cell_type": "markdown",
   "metadata": {},
   "source": [
    "2. The classic game of Mastermind is played on a tray on which the\n",
    "Mastermind conceals a code and the Guesser has 10 tries to guess it. The\n",
    "code is a sequence of 4 (or 6, sometimes more) pegs of different colors. Each\n",
    "guess is a corresponding sequence of 4 (or more) pegs of different colors. A\n",
    "guess is &quot;correct&quot; when the color of every peg in the guess exactly matches\n",
    "the corresponding peg in the Mastermind&#39;s code.\n",
    "After each guess by the Guesser, the Mastermind will give a score comprising\n",
    "black &amp; white pegs, not arranged in any order:\n",
    "- Black peg == guess peg matches the color of a code peg in the same\n",
    "position.\n",
    "- White peg == guess peg matches the color of a code peg in another\n",
    "position.\n",
    "Create a function that takes two strings, code and guess as arguments, and\n",
    "returns the score in a dictionary.\n",
    "- The code and guess are strings of numeric digits\n",
    "- The color of the pegs are represented by numeric digits\n",
    "- no &quot;peg&quot; may be double-scored\n",
    "Examples\n",
    "guess_score(&quot;1423&quot;, &quot;5678&quot;) ➞ {&quot;black&quot;: 0, &quot;white&quot;: 0}\n",
    "\n",
    "guess_score(&quot;1423&quot;, &quot;2222&quot;) ➞ {&quot;black&quot;: 1, &quot;white&quot;: 0}\n",
    "guess_score(&quot;1423&quot;, &quot;1234&quot;) ➞ {&quot;black&quot;: 1, &quot;white&quot;: 3}\n",
    "guess_score(&quot;1423&quot;, &quot;2211&quot;) ➞ {&quot;black&quot;: 0, &quot;white&quot;: 2}\n"
   ]
  },
  {
   "cell_type": "markdown",
   "metadata": {},
   "source": [
    "3. Create a function that takes a list lst and a number N and returns a list of\n",
    "two integers from lst whose product equals N.\n",
    "Examples\n",
    "two_product([1, 2, -1, 4, 5], 20) ➞ [4, 5]\n",
    "two_product([1, 2, 3, 4, 5], 10) ➞ [2, 5]\n",
    "two_product([100, 12, 4, 1, 2], 15) ➞ None\n",
    "\n"
   ]
  },
  {
   "cell_type": "markdown",
   "metadata": {},
   "source": [
    "4. In this challenge, sort a list containing a series of dates given as strings.\n",
    "Each date is given in the format DD-MM-YYYY_HH:MM:\n",
    "&quot;12-02-2012_13:44&quot;\n",
    "The priority of criteria used for sorting will be:\n",
    "- Year\n",
    "- Month\n",
    "- Day\n",
    "- Hours\n",
    "- Minutes\n",
    "Given a list lst and a string mode, implement a function that returns:\n",
    "- if mode is equal to &quot;ASC&quot;, the list lst sorted in ascending order.\n",
    "- if mode is equal to &quot;DSC&quot;, the list lst sorted in descending order.\n",
    "Examples\n",
    "sort_dates([&quot;10-02-2018_12:30&quot;, &quot;10-02-2016_12:30&quot;, &quot;10-02-2018_12:15&quot;],\n",
    "&quot;ASC&quot;) ➞ [&quot;10-02-2016_12:30&quot;, &quot;10-02-2018_12:15&quot;, &quot;10-02-2018_12:30&quot;]\n",
    "sort_dates([&quot;10-02-2018_12:30&quot;, &quot;10-02-2016_12:30&quot;, &quot;10-02-2018_12:15&quot;],\n",
    "&quot;DSC&quot;) ➞ [&quot;10-02-2018_12:30&quot;, &quot;10-02-2018_12:15&quot;, &quot;10-02-2016_12:30&quot;]\n",
    "\n",
    "sort_dates([&quot;09-02-2000_10:03&quot;, &quot;10-02-2000_18:29&quot;, &quot;01-01-1999_00:55&quot;],\n",
    "&quot;ASC&quot;) ➞ [&quot;01-01-1999_00:55&quot;, &quot;09-02-2000_10:03&quot;, &quot;10-02-2000_18:29&quot;]\n"
   ]
  },
  {
   "cell_type": "markdown",
   "metadata": {},
   "source": [
    "5. Write a function that selects all words that have all the same vowels (in any\n",
    "order and/or number) as the first word, including the first word.\n",
    "Examples\n",
    "same_vowel_group([&quot;toe&quot;, &quot;ocelot&quot;, &quot;maniac&quot;]) ➞ [&quot;toe&quot;, &quot;ocelot&quot;]\n",
    "same_vowel_group([&quot;many&quot;, &quot;carriage&quot;, &quot;emit&quot;, &quot;apricot&quot;, &quot;animal&quot;]) ➞\n",
    "[&quot;many&quot;]\n",
    "same_vowel_group([&quot;hoops&quot;, &quot;chuff&quot;, &quot;bot&quot;, &quot;bottom&quot;]) ➞ [&quot;hoops&quot;, &quot;bot&quot;,\n",
    "&quot;bottom&quot;]\n",
    "6. Create a function that takes a list of more than three numbers and returns\n",
    "the Least Common Multiple (LCM).\n",
    "Examples\n",
    "lcm_of_list([1, 2, 3, 4, 5, 6, 7, 8, 9, 10]) ➞ 2520\n",
    "lcm_of_list([13, 6, 17, 18, 19, 20, 37]) ➞ 27965340\n",
    "lcm_of_list([44, 64, 12, 17, 65]) ➞ 2333760"
   ]
  }
 ],
 "metadata": {
  "language_info": {
   "name": "python"
  },
  "orig_nbformat": 4
 },
 "nbformat": 4,
 "nbformat_minor": 2
}
