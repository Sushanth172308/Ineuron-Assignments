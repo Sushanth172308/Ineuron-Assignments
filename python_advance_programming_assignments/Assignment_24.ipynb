{
 "cells": [
  {
   "cell_type": "markdown",
   "metadata": {},
   "source": [
    "1. Implement a class iterator to flatten a nested list of lists of integers. Each\n",
    "list element is either an integer or a list. There can be many levels of nested\n",
    "lists in lists.\n",
    "The class initializes with a nested list. It also has two methods:\n",
    "1. next() returns an integer in the order of appearance.\n",
    "2. hasNext() returns True / False regarding if all integers have been\n",
    "retrieved or not.\n",
    "Write the Class implementation for three required methods.\n",
    "Examples\n",
    "ni, actual = NestedIterator([[1, 1], 2, [1, 1]]), []\n",
    "while ni.hasNext():\n",
    "actual.append(ni.next())\n",
    "actual ➞ [1, 1, 2, 1, 1]\n",
    "ni, actual = NestedIterator([1, [4, [6]]]), []\n",
    "while ni.hasNext():\n",
    "actual.append(ni.next())\n",
    "actual ➞ [1, 4, 6]\n",
    "ni, actual = NestedIterator([[[]], []]), []\n",
    "while ni.hasNext():\n",
    "actual.append(ni.next())\n",
    "actual ➞ []\n"
   ]
  },
  {
   "cell_type": "markdown",
   "metadata": {},
   "source": [
    "2. Implement the class Shape that receives perimeter and density function\n",
    "into __init__ method. The list of consecutive corners defines shape of a 2-\n",
    "dimensional object. The density function defines the mass distribution inside\n",
    "the shape. To compute mass in a certain point m(x, y) = small_square *\n",
    "density(x, y). The __init__ method calls other internal methods that compute\n",
    "three characteristics of the shape:\n",
    "- area\n",
    "- total mass\n",
    "- center of mass (xc, yc)\n",
    "The computational grid has distance between two neighboring points as 2 *\n",
    "delta, the distance between a grid point and the perimeter wall is delta.\n",
    "Examples\n",
    "\n",
    "sh_ex1 = Shape([(1, 1), (3, 1), (3, 2), (1, 2)], lambda x, y: 100 + 100 * x)\n",
    "sh_ex1.area ➞ 2.0\n",
    "sh_ex1.mass ➞ 600.0\n",
    "sh_ex1.mass_center ➞ (2.1, 1.5)\n",
    "The example can be verified via analytical integration. Other shapes in Tests\n",
    "are slightly more complicated and require numerical integration as illustrated\n",
    "here:\n",
    "\n"
   ]
  },
  {
   "cell_type": "markdown",
   "metadata": {},
   "source": [
    "3. Given a 3x3 matrix of a completed tic-tac-toe game, create a function that\n",
    "returns whether the game is a win for &quot;X&quot;, &quot;O&quot;, or a &quot;Draw&quot;, where &quot;X&quot; and &quot;O&quot;\n",
    "represent themselves on the matrix, and &quot;E&quot; represents an empty spot.\n",
    "Examples\n",
    "tic_tac_toe([\n",
    "[&quot;X&quot;, &quot;O&quot;, &quot;X&quot;],\n",
    "[&quot;O&quot;, &quot;X&quot;, &quot;O&quot;],\n",
    "[&quot;O&quot;, &quot;X&quot;, &quot;X&quot;]\n",
    "]) ➞ &quot;X&quot;\n",
    "tic_tac_toe([\n",
    "[&quot;O&quot;, &quot;O&quot;, &quot;O&quot;],\n",
    "[&quot;O&quot;, &quot;X&quot;, &quot;X&quot;],\n",
    "[&quot;E&quot;, &quot;X&quot;, &quot;X&quot;]\n",
    "]) ➞ &quot;O&quot;\n",
    "\n",
    "tic_tac_toe([\n",
    "[&quot;X&quot;, &quot;X&quot;, &quot;O&quot;],\n",
    "[&quot;O&quot;, &quot;O&quot;, &quot;X&quot;],\n",
    "[&quot;X&quot;, &quot;X&quot;, &quot;O&quot;]\n",
    "]) ➞ &quot;Draw&quot;\n"
   ]
  },
  {
   "cell_type": "markdown",
   "metadata": {},
   "source": [
    "4. Your computer might have been infected by a virus! Create a function that\n",
    "finds the viruses in files and removes them from your computer.\n",
    "Examples\n",
    "remove_virus(&quot;PC Files: spotifysetup.exe, virus.exe, dog.jpg&quot;) ➞ &quot;PC Files:\n",
    "spotifysetup.exe, dog.jpg&quot;\n",
    "remove_virus(&quot;PC Files: antivirus.exe, cat.pdf, lethalmalware.exe,\n",
    "dangerousvirus.exe &quot;) ➞ &quot;PC Files: antivirus.exe, cat.pdf&quot;\n",
    "remove_virus(&quot;PC Files: notvirus.exe, funnycat.gif&quot;) ➞ &quot;PC Files:\n",
    "notvirus.exe, funnycat.gif&quot;)\n"
   ]
  },
  {
   "cell_type": "markdown",
   "metadata": {},
   "source": [
    "5. In a video game, a meteor will fall toward the main character&#39;s home\n",
    "planet. Given the meteor&#39;s trajectory as a string in the form y = mx + b and\n",
    "the character&#39;s position as a tuple of (x, y), return True if the meteor will hit\n",
    "the character and False if it will not.\n",
    "Examples\n",
    "will_hit(&quot;y = 2x - 5&quot;, (0, 0)) ➞ False\n",
    "will_hit(&quot;y = -4x + 6&quot;, (1, 2)) ➞ True\n",
    "will_hit(&quot;y = 2x + 6&quot;, (3, 2)) ➞ False"
   ]
  }
 ],
 "metadata": {
  "kernelspec": {
   "display_name": "Python 3.8.13 (conda)",
   "language": "python",
   "name": "python3"
  },
  "language_info": {
   "name": "python",
   "version": "3.8.13"
  },
  "orig_nbformat": 4,
  "vscode": {
   "interpreter": {
    "hash": "83aca62f18954cf13f96418a44a5b107d52f853e6c55d41e444eea0993e5d51e"
   }
  }
 },
 "nbformat": 4,
 "nbformat_minor": 2
}
