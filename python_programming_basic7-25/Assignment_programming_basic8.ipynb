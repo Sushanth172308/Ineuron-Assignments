{
 "cells": [
  {
   "cell_type": "markdown",
   "metadata": {},
   "source": [
    "1. Write a Python Program to Add Two Matrices?"
   ]
  },
  {
   "cell_type": "code",
   "execution_count": 2,
   "metadata": {},
   "outputs": [
    {
     "name": "stdout",
     "output_type": "stream",
     "text": [
      "[17, 15, 4]\n",
      "[10, 12, 9]\n",
      "[11, 13, 18]\n"
     ]
    }
   ],
   "source": [
    "A = [[12,7,3],\n",
    "    [4 ,5,6],\n",
    "    [7 ,8,9]]\n",
    "\n",
    "B = [[5,8,1],\n",
    "    [6,7,3],\n",
    "    [4,5,9]]\n",
    "\n",
    "res = [[A[i][j] + B[i][j]  for j in range(len(A[0]))] for i in range(len(A))]\n",
    "\n",
    "for r in res:\n",
    "   print(r)"
   ]
  },
  {
   "cell_type": "markdown",
   "metadata": {},
   "source": [
    "2. Write a Python Program to Multiply Two Matrices?\n"
   ]
  },
  {
   "cell_type": "code",
   "execution_count": 3,
   "metadata": {},
   "outputs": [
    {
     "name": "stdout",
     "output_type": "stream",
     "text": [
      "[52 80 50  7]\n",
      "[74 90 70 14]\n",
      "[110 122  97  23]\n"
     ]
    }
   ],
   "source": [
    "import numpy as np\n",
    "\n",
    "X = [[2, 7, 3],\n",
    "    [4, 4, 6],\n",
    "    [7, 3, 9]]\n",
    " \n",
    "\n",
    "Y = [[8, 8, 1, 2],\n",
    "    [3, 7, 3, 0],\n",
    "    [5, 5, 9, 1]]\n",
    " \n",
    "# result will be 3x4\n",
    " \n",
    "res= [[0,0,0,0],\n",
    "        [0,0,0,0],\n",
    "        [0,0,0,0]]\n",
    " \n",
    "res = np.dot(X,Y)\n",
    " \n",
    "for r in res:\n",
    "    print(r)"
   ]
  },
  {
   "cell_type": "markdown",
   "metadata": {},
   "source": [
    "\n",
    "3. Write a Python Program to Transpose a Matrix?\n"
   ]
  },
  {
   "cell_type": "code",
   "execution_count": 4,
   "metadata": {},
   "outputs": [
    {
     "name": "stdout",
     "output_type": "stream",
     "text": [
      "Original Array:\n",
      "[[4 5 6]\n",
      " [4 5 6]]\n",
      "Transposed Array:\n",
      "[[4 4]\n",
      " [5 5]\n",
      " [6 6]]\n"
     ]
    }
   ],
   "source": [
    "import numpy as np\n",
    "\n",
    "arr = np.array([[4, 5, 6], [4, 5, 6]])\n",
    "\n",
    "print(f'Original Array:\\n{arr}')\n",
    "\n",
    "arr_transpose = arr.transpose()\n",
    "\n",
    "print(f'Transposed Array:\\n{arr_transpose}')"
   ]
  },
  {
   "cell_type": "markdown",
   "metadata": {},
   "source": [
    "4. Write a Python Program to Sort Words in Alphabetic Order?"
   ]
  },
  {
   "cell_type": "code",
   "execution_count": 7,
   "metadata": {},
   "outputs": [
    {
     "name": "stdout",
     "output_type": "stream",
     "text": [
      "There Are Many States In Inida\n",
      "Are In Inida Many States There\n"
     ]
    }
   ],
   "source": [
    "def sortWords():\n",
    "    str =input('Enter a word:').title()\n",
    "    print(str) \n",
    "    sorted_list =sorted(str.split(' '))\n",
    "    print(' '.join(sorted_list))\n",
    "\n",
    "sortWords()"
   ]
  },
  {
   "cell_type": "markdown",
   "metadata": {},
   "source": [
    "5. Write a Python Program to Remove Punctuation From a String?"
   ]
  },
  {
   "cell_type": "code",
   "execution_count": 12,
   "metadata": {},
   "outputs": [
    {
     "name": "stdout",
     "output_type": "stream",
     "text": [
      "I am @#$%&@)  #@^&  a life $^&(&^^ long %^&* student.\n",
      "I am     a life  long  student\n"
     ]
    }
   ],
   "source": [
    "def remPunctuations():\n",
    "    punctuations ='''!()-[]{};:'\"\\,<>./?@#$%^&*_~'''\n",
    "    in_put =input('Enter a string: ')\n",
    "    print(in_put)\n",
    "    out_put =''\n",
    "    for i in in_put:\n",
    "        if i not in punctuations:\n",
    "            out_put +=i \n",
    "    print(out_put) \n",
    "remPunctuations()           "
   ]
  }
 ],
 "metadata": {
  "kernelspec": {
   "display_name": "Python 3.8.13 (conda)",
   "language": "python",
   "name": "python3"
  },
  "language_info": {
   "codemirror_mode": {
    "name": "ipython",
    "version": 3
   },
   "file_extension": ".py",
   "mimetype": "text/x-python",
   "name": "python",
   "nbconvert_exporter": "python",
   "pygments_lexer": "ipython3",
   "version": "3.8.13"
  },
  "orig_nbformat": 4,
  "vscode": {
   "interpreter": {
    "hash": "83aca62f18954cf13f96418a44a5b107d52f853e6c55d41e444eea0993e5d51e"
   }
  }
 },
 "nbformat": 4,
 "nbformat_minor": 2
}
