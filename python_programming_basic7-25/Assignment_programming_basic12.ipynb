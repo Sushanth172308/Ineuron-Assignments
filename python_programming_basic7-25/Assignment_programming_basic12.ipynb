{
 "cells": [
  {
   "cell_type": "markdown",
   "metadata": {},
   "source": [
    "1. Write a Python program to Extract Unique values dictionary values?\n"
   ]
  },
  {
   "cell_type": "code",
   "execution_count": 25,
   "metadata": {},
   "outputs": [
    {
     "name": "stdout",
     "output_type": "stream",
     "text": [
      "dict_values(['IBM', 'ACER', 'MSI', 'ASUS', 'MSI', 'ASUS'])\n",
      "Unique values are:['ACER', 'ASUS', 'IBM', 'MSI']\n"
     ]
    }
   ],
   "source": [
    "dict1 ={1:'IBM',2:'ACER',3:'MSI',4:'ASUS',5:'MSI',6:'ASUS'}\n",
    "print(dict1.values())\n",
    "print(f'Unique values are:{list(set(dict1.values()))}')"
   ]
  },
  {
   "cell_type": "markdown",
   "metadata": {},
   "source": [
    "2. Write a Python program to find the sum of all items in a dictionary?\n"
   ]
  },
  {
   "cell_type": "code",
   "execution_count": 26,
   "metadata": {},
   "outputs": [
    {
     "name": "stdout",
     "output_type": "stream",
     "text": [
      "The sum of all items are: 47\n"
     ]
    }
   ],
   "source": [
    "dict1 ={'IBM':20,'ACER':15,'MSI':10,'ASUS':2,}\n",
    "print('The sum of all items are:', sum(dict1.values()))"
   ]
  },
  {
   "cell_type": "markdown",
   "metadata": {},
   "source": [
    "3. Write a Python program to Merging two Dictionaries?\n"
   ]
  },
  {
   "cell_type": "code",
   "execution_count": 6,
   "metadata": {},
   "outputs": [
    {
     "name": "stdout",
     "output_type": "stream",
     "text": [
      "{'computer_brand': 'MSI', 'computer_processor': 'intel corei7'}\n"
     ]
    }
   ],
   "source": [
    "first_dict ={'computer_brand':'MSI'}\n",
    "second_dcit ={'computer_processor':'intel corei7'}\n",
    "\n",
    "first_dict.update(second_dcit)\n",
    "print(first_dict)"
   ]
  },
  {
   "cell_type": "markdown",
   "metadata": {},
   "source": [
    "4. Write a Python program to convert key-values list to flat dictionary?\n"
   ]
  },
  {
   "cell_type": "code",
   "execution_count": 13,
   "metadata": {},
   "outputs": [
    {
     "name": "stdout",
     "output_type": "stream",
     "text": [
      "{'X': 12, 'Y': 10, 'Z': 45}\n"
     ]
    }
   ],
   "source": [
    "dict1 =[('X',12),('Y',10),('Z',45)]\n",
    "\n",
    "out_put ={}\n",
    "for i in dict1:\n",
    "    out_put[i[0]] =i[1]\n",
    "print(out_put)    "
   ]
  },
  {
   "cell_type": "markdown",
   "metadata": {},
   "source": [
    "5. Write a Python program to insertion at the beginning in OrderedDict?\n"
   ]
  },
  {
   "cell_type": "code",
   "execution_count": 27,
   "metadata": {},
   "outputs": [
    {
     "name": "stdout",
     "output_type": "stream",
     "text": [
      "first dictionary is: OrderedDict([('IBM', 20), ('ACER', 15), ('MSI', 10)])\n",
      "first dictionary is: OrderedDict([('IBM', 20), ('ACER', 15), ('MSI', 10), ('ASUS', 2)])\n",
      "first dictionary is: OrderedDict([('ASUS', 2), ('IBM', 20), ('ACER', 15), ('MSI', 10)])\n"
     ]
    }
   ],
   "source": [
    "from collections import OrderedDict\n",
    "dict1 =OrderedDict({'IBM':20,'ACER':15,'MSI':10,})\n",
    "print('first dictionary is:',dict1)\n",
    "dict2 ={'ASUS':2}\n",
    "dict1.update(dict2)\n",
    "print('first dictionary is:',dict1)\n",
    "dict1.move_to_end('ASUS',last=False)\n",
    "print('first dictionary is:',dict1)\n"
   ]
  },
  {
   "cell_type": "markdown",
   "metadata": {},
   "source": [
    "6. Write a Python program to check order of character in string using OrderedDict()?\n"
   ]
  },
  {
   "cell_type": "code",
   "execution_count": 2,
   "metadata": {},
   "outputs": [
    {
     "name": "stdout",
     "output_type": "stream",
     "text": [
      "{'e': 30, 'a': 20, 'b': 15, 'd': 10, 'c': 20}\n",
      "OrderedDict([('a', 20), ('b', 15), ('c', 20), ('d', 10), ('e', 30)])\n"
     ]
    }
   ],
   "source": [
    "from collections import OrderedDict\n",
    "dict1 ={'e':30, 'a':20, 'b':15, 'd':10, 'c':20}\n",
    "print(dict1)\n",
    "\n",
    "result = OrderedDict(dict(sorted(dict1.items())))\n",
    "print(result)"
   ]
  },
  {
   "cell_type": "markdown",
   "metadata": {},
   "source": [
    "7. Write a Python program to sort Python Dictionaries by Key or Value?"
   ]
  },
  {
   "cell_type": "code",
   "execution_count": 5,
   "metadata": {},
   "outputs": [
    {
     "name": "stdout",
     "output_type": "stream",
     "text": [
      "{'fifth': 'MSI', 'first': 'IBM', 'fourth': 'ASUS', 'second': 'ACER', 'sixth': 'ASUS', 'third': 'MSI'}\n",
      "{'second': 'ACER', 'fourth': 'ASUS', 'sixth': 'ASUS', 'first': 'IBM', 'third': 'MSI', 'fifth': 'MSI'}\n"
     ]
    }
   ],
   "source": [
    "dict3 ={'first':'IBM','second':'ACER','third':'MSI','fourth':'ASUS','fifth':'MSI','sixth':'ASUS'}\n",
    "def sortDict(in_put, out_put): \n",
    "    if out_put == 'key':\n",
    "        print(dict(sorted(in_put.items(),key =lambda x:x[0],reverse=False)))\n",
    "    else:\n",
    "        print(dict(sorted(in_put.items(), key=lambda x:x[1], reverse=False)))\n",
    "sortDict(dict3,'key')\n",
    "sortDict(dict3,'value')            "
   ]
  }
 ],
 "metadata": {
  "kernelspec": {
   "display_name": "Python 3.8.13 (conda)",
   "language": "python",
   "name": "python3"
  },
  "language_info": {
   "codemirror_mode": {
    "name": "ipython",
    "version": 3
   },
   "file_extension": ".py",
   "mimetype": "text/x-python",
   "name": "python",
   "nbconvert_exporter": "python",
   "pygments_lexer": "ipython3",
   "version": "3.8.13"
  },
  "orig_nbformat": 4,
  "vscode": {
   "interpreter": {
    "hash": "83aca62f18954cf13f96418a44a5b107d52f853e6c55d41e444eea0993e5d51e"
   }
  }
 },
 "nbformat": 4,
 "nbformat_minor": 2
}
