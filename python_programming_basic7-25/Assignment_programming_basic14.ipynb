{
 "cells": [
  {
   "cell_type": "markdown",
   "metadata": {},
   "source": [
    "Question 1:\n",
    "Define a class with a generator which can iterate the numbers, which are divisible by\n",
    "7, between a given range 0 and n.\n",
    "\n"
   ]
  },
  {
   "cell_type": "code",
   "execution_count": 3,
   "metadata": {},
   "outputs": [
    {
     "name": "stdout",
     "output_type": "stream",
     "text": [
      "0 7 14 21 28 35 42 49 56 63 70 77 84 91 98 105 112 119 126 133 140 147 154 161 168 175 182 189 196 203 210 217 224 231 238 245 252 259 266 273 280 287 294 301 308 315 322 329 336 343 350 "
     ]
    }
   ],
   "source": [
    "class Generatordiv:\n",
    "    def __init__(self,in_put):\n",
    "        self.in_put = in_put\n",
    "    \n",
    "    def number(self):\n",
    "        for i in range(0,self.in_put+1):\n",
    "            if i%7==0:\n",
    "                yield i\n",
    "\n",
    "result =Generatordiv(350)\n",
    "for i in result.number():\n",
    "    print(i,end=' ')                \n"
   ]
  },
  {
   "cell_type": "markdown",
   "metadata": {},
   "source": [
    "Question 2:\n",
    "Write a program to compute the frequency of the words from the input. The output\n",
    "should output after sorting the key alphanumerically.\n",
    "Suppose the following input is supplied to the program:\n",
    "New to Python or choosing between Python 2 and Python 3? Read Python 2 or\n",
    "Python 3.\n",
    "Then, the output should be:\n",
    "2:2\n",
    "3.:1\n",
    "3?:1\n",
    "New:1\n",
    "Python:5\n",
    "Read:1\n",
    "and:1\n",
    "between:1\n",
    "choosing:1\n",
    "or:2\n",
    "to:1\n"
   ]
  },
  {
   "cell_type": "code",
   "execution_count": 2,
   "metadata": {},
   "outputs": [
    {
     "name": "stdout",
     "output_type": "stream",
     "text": [
      "Entered string: New to Python or choosing between Python 2 and Python 3? Read Python 2 or Python 3.\n",
      "2: 2 3.: 1 3?: 1 New: 1 Python: 5 Read: 1 and: 1 between: 1 choosing: 1 or: 2 to: 1 "
     ]
    }
   ],
   "source": [
    "def frequencyCheck():\n",
    "    in_put =input('enter a input string: ')\n",
    "    print(f'Entered string: {in_put}')\n",
    "    freq ={}\n",
    "    for i in in_put.split(' '):\n",
    "        if(freq.get(i)==None):\n",
    "           freq[i] = 1\n",
    "        else:\n",
    "            freq[i] += 1\n",
    "    for i in sorted(freq)   :\n",
    "        print(f'{i}: {freq[i]}', end =' ')\n",
    "frequencyCheck()        \n"
   ]
  },
  {
   "cell_type": "markdown",
   "metadata": {},
   "source": [
    "\n",
    "Question 3:\n",
    "\n",
    "Define a class Person and its two child classes: Male and Female. All classes have a\n",
    "method &quot;getGender&quot; which can print &quot;Male&quot; for Male class and &quot;Female&quot; for Female\n",
    "class.\n",
    "\n"
   ]
  },
  {
   "cell_type": "code",
   "execution_count": 8,
   "metadata": {},
   "outputs": [
    {
     "name": "stdout",
     "output_type": "stream",
     "text": [
      "Male\n",
      "Female\n"
     ]
    }
   ],
   "source": [
    "class Person:\n",
    "    def getGender():\n",
    "        pass\n",
    "        \n",
    "\n",
    "class Male(Person):\n",
    "    def getGender():\n",
    "        print('Male')\n",
    "\n",
    "\n",
    "class Female(Person):\n",
    "    def getGender():\n",
    "        print('Female')\n",
    "\n",
    "Male.getGender()\n",
    "Female.getGender()                      \n"
   ]
  },
  {
   "cell_type": "markdown",
   "metadata": {},
   "source": [
    "Question 4:\n",
    "Please write a program to generate all sentences where subject is in [&quot;I&quot;, &quot;You&quot;] and\n",
    "verb is in [&quot;Play&quot;, &quot;Love&quot;] and the object is in [&quot;Hockey&quot;,&quot;Football&quot;].\n"
   ]
  },
  {
   "cell_type": "code",
   "execution_count": 9,
   "metadata": {},
   "outputs": [
    {
     "name": "stdout",
     "output_type": "stream",
     "text": [
      "I Play Hockey\n",
      "I Play Football\n",
      "I Love Hockey\n",
      "I Love Football\n",
      "You Play Hockey\n",
      "You Play Football\n",
      "You Love Hockey\n",
      "You Love Football\n"
     ]
    }
   ],
   "source": [
    "def sentaceGenerator():\n",
    "    sub =['I','You']\n",
    "    verb =['Play','Love']\n",
    "    obj =['Hockey','Football']\n",
    "    for i in sub:\n",
    "        for j in verb:\n",
    "            for k in obj:\n",
    "                print(f'{i} {j} {k}')\n",
    "sentaceGenerator()                "
   ]
  },
  {
   "cell_type": "markdown",
   "metadata": {},
   "source": [
    "\n",
    "Question 5:\n",
    "Please write a program to compress and decompress the string &quot;hello world!hello\n",
    "world!hello world!hello world!&quot;.\n",
    "\n"
   ]
  },
  {
   "cell_type": "code",
   "execution_count": 20,
   "metadata": {},
   "outputs": [
    {
     "name": "stdout",
     "output_type": "stream",
     "text": [
      "hel2o world!hel2oworld!hel2o world!hel2o world!\n",
      "hello world!helloworld!hello world!hello world!\n"
     ]
    }
   ],
   "source": [
    "def compress(in_put):\n",
    "    out_put = in_put[0]\n",
    "    count = 1\n",
    "    for i in range(len(in_put)-1):\n",
    "        if in_put[i] == in_put[i+1]:\n",
    "            count +=1\n",
    "        else:\n",
    "            if count > 1:\n",
    "                out_put += str(count)\n",
    "            out_put += in_put[i+1]\n",
    "            count = 1\n",
    "    if count > 1:\n",
    "        out_put += str(count)            \n",
    "    print(out_put)\n",
    "\n",
    "def decompress(in_put):\n",
    "    output = ''\n",
    "    for i in range(len(in_put)):\n",
    "        if in_put[i].isdigit():\n",
    "            output += output[-1]*(int(in_put[i])-1)\n",
    "        else:\n",
    "            output += in_put[i]\n",
    "    print(output)\n",
    "compress('hello world!helloworld!hello world!hello world!')\n",
    "decompress('hello world!helloworld!hello world!hello world!')\n"
   ]
  },
  {
   "cell_type": "markdown",
   "metadata": {},
   "source": [
    "Question 6:\n",
    "Please write a binary search function which searches an item in a sorted list. The\n",
    "function should return the index of element to be searched in the list."
   ]
  },
  {
   "cell_type": "code",
   "execution_count": 24,
   "metadata": {},
   "outputs": [
    {
     "name": "stdout",
     "output_type": "stream",
     "text": [
      "Input Element not in the list\n",
      "3\n"
     ]
    }
   ],
   "source": [
    "sort_list =[11,12,13,14,15,16,17,18,19,20]\n",
    "def binSearch(in_put,in_num):\n",
    "    low=0\n",
    "    high =len(in_put)-1\n",
    "    while low<=high:\n",
    "        mid = high+low//2\n",
    "        if in_put[mid] < in_num:\n",
    "            low = mid+1\n",
    "        elif in_put[mid] > in_num:\n",
    "            high = mid-1\n",
    "        else:\n",
    "            return mid\n",
    "    else:\n",
    "        return 'Input Element not in the list'\n",
    "\n",
    "print(binSearch(sort_list,25))\n",
    "print(binSearch(sort_list,14))\n",
    "\n",
    "\n"
   ]
  }
 ],
 "metadata": {
  "kernelspec": {
   "display_name": "Python 3.8.13 (conda)",
   "language": "python",
   "name": "python3"
  },
  "language_info": {
   "codemirror_mode": {
    "name": "ipython",
    "version": 3
   },
   "file_extension": ".py",
   "mimetype": "text/x-python",
   "name": "python",
   "nbconvert_exporter": "python",
   "pygments_lexer": "ipython3",
   "version": "3.8.13"
  },
  "orig_nbformat": 4,
  "vscode": {
   "interpreter": {
    "hash": "83aca62f18954cf13f96418a44a5b107d52f853e6c55d41e444eea0993e5d51e"
   }
  }
 },
 "nbformat": 4,
 "nbformat_minor": 2
}
