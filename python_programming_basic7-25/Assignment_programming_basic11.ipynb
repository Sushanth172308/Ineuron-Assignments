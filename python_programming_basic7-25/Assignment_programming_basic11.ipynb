{
 "cells": [
  {
   "cell_type": "markdown",
   "metadata": {},
   "source": [
    "1. Write a Python program to find words which are greater than given length k?\n"
   ]
  },
  {
   "cell_type": "code",
   "execution_count": 6,
   "metadata": {},
   "outputs": [
    {
     "name": "stdout",
     "output_type": "stream",
     "text": [
      "I am learning data science\n",
      "Enter the lenth of string:5\n",
      "learning,science\n"
     ]
    }
   ],
   "source": [
    "def countLengthOfString():\n",
    "    input_string=input('Enter the string: ')\n",
    "    print(input_string)\n",
    "    len_string =int(input('Enter the lenth of the string: '))\n",
    "    print(f'Enter the lenth of string:{len_string}')\n",
    "    out_put =[]\n",
    "    for i in input_string.split(' '):\n",
    "        if len(i) > len_string:\n",
    "            out_put.append(i)\n",
    "    print(','.join(out_put)) \n",
    "countLengthOfString()           "
   ]
  },
  {
   "cell_type": "markdown",
   "metadata": {},
   "source": [
    "2. Write a Python program for removing i-th character from a string?\n"
   ]
  },
  {
   "cell_type": "code",
   "execution_count": 9,
   "metadata": {},
   "outputs": [
    {
     "name": "stdout",
     "output_type": "stream",
     "text": [
      "Entered string is:Data science\n",
      "Data cience\n"
     ]
    }
   ],
   "source": [
    "def characterRemove():\n",
    "    in_str =input('Enter a string')\n",
    "    print(f'Entered string is:{in_str}')\n",
    "    in_char =int(input('Enter i-th charactor: '))\n",
    "    out_put =''\n",
    "    for i in range(len(in_str)):\n",
    "        if i !=in_char:\n",
    "            out_put += in_str[i]\n",
    "    print(out_put)        \n",
    "\n",
    "characterRemove()"
   ]
  },
  {
   "cell_type": "markdown",
   "metadata": {},
   "source": [
    "3. Write a Python program to split and join a string?\n"
   ]
  },
  {
   "cell_type": "code",
   "execution_count": 11,
   "metadata": {},
   "outputs": [
    {
     "name": "stdout",
     "output_type": "stream",
     "text": [
      "split string:['India', '', 'is', '', 'land', 'of', 'spirtuality', '']\n",
      "Join string:India  is  land of spirtuality \n"
     ]
    }
   ],
   "source": [
    "def splitAndJoin():\n",
    "    str_in =input('Enter the string:')\n",
    "    print(f\"split string:{str_in.split(' ')}\")\n",
    "    print(f\"Join string:{' '.join(str_in.split(' '))}\")\n",
    "\n",
    "splitAndJoin()    "
   ]
  },
  {
   "cell_type": "markdown",
   "metadata": {},
   "source": [
    "4. Write a Python to check if a given string is binary string or not?\n"
   ]
  },
  {
   "cell_type": "code",
   "execution_count": 14,
   "metadata": {},
   "outputs": [
    {
     "name": "stdout",
     "output_type": "stream",
     "text": [
      "44654is not a binary string\n",
      "1010101is a binary string\n"
     ]
    }
   ],
   "source": [
    "def binaryString():\n",
    "    str_in =input('Enter the string:')\n",
    "    stu =0\n",
    "    for i in str_in:\n",
    "        if i in ['0','1']:\n",
    "            stu =1\n",
    "            continue\n",
    "        else:\n",
    "            stu =0\n",
    "            break\n",
    "    state_ment ='is a binary string'if stu == 1 else 'is not a binary string'\n",
    "    print(f'{str_in}{state_ment}')\n",
    "\n",
    "binaryString()\n",
    "binaryString()\n"
   ]
  },
  {
   "cell_type": "markdown",
   "metadata": {},
   "source": [
    "5. Write a Python program to find uncommon words from two Strings?\n"
   ]
  },
  {
   "cell_type": "code",
   "execution_count": 20,
   "metadata": {},
   "outputs": [
    {
     "name": "stdout",
     "output_type": "stream",
     "text": [
      "['peach', 'mango']\n"
     ]
    }
   ],
   "source": [
    "def uncommon(A,B):\n",
    "  A=A.split()\n",
    "  B=B.split()\n",
    "  k=set(A).symmetric_difference(set(B))\n",
    "  return k\n",
    "\n",
    "a = \"mango tree is there\"\n",
    "b = \"peach tree is there\"\n",
    "print(list(uncommon(a,b)))\n",
    "\n",
    "   "
   ]
  },
  {
   "cell_type": "markdown",
   "metadata": {},
   "source": [
    "6. Write a Python to find all duplicate characters in string?\n"
   ]
  },
  {
   "cell_type": "code",
   "execution_count": 23,
   "metadata": {},
   "outputs": [
    {
     "name": "stdout",
     "output_type": "stream",
     "text": [
      "Duplicate characters are: ['s', 'h']\n"
     ]
    }
   ],
   "source": [
    "def charsDuplicate():\n",
    "    string_in = input('Enter the string: ')\n",
    "    non_duplicate = []\n",
    "    duplicate = []\n",
    "    for char in string_in:\n",
    "        if char not in non_duplicate:\n",
    "            non_duplicate.append(char)\n",
    "        else:\n",
    "            duplicate.append(char)\n",
    "    print(f'Duplicate characters are: {list(set(duplicate))}')\n",
    "        \n",
    "charsDuplicate()"
   ]
  },
  {
   "cell_type": "markdown",
   "metadata": {},
   "source": [
    "7. Write a Python Program to check if a string contains any special character?"
   ]
  },
  {
   "cell_type": "code",
   "execution_count": 25,
   "metadata": {},
   "outputs": [
    {
     "name": "stdout",
     "output_type": "stream",
     "text": [
      "There are11Speical Characters in india #$^&((**()( which are ['#', '$', '^', '&', '(', '(', '*', '*', '(', ')', '(']\n"
     ]
    }
   ],
   "source": [
    "def specialChar():\n",
    "    char_special ='[@_!#$%^&*()<>?/\\|}{~:]'\n",
    "    in_str =input('Enter a string: ')\n",
    "    count =0\n",
    "    char_list =[]\n",
    "    for char in in_str:\n",
    "        if char in char_special:\n",
    "            char_list.append(char)\n",
    "            count =count +1\n",
    "    print(f'There are{count}Speical Characters in {in_str} which are {char_list}')\n",
    "\n",
    "specialChar()            \n"
   ]
  }
 ],
 "metadata": {
  "kernelspec": {
   "display_name": "Python 3.8.13 (conda)",
   "language": "python",
   "name": "python3"
  },
  "language_info": {
   "codemirror_mode": {
    "name": "ipython",
    "version": 3
   },
   "file_extension": ".py",
   "mimetype": "text/x-python",
   "name": "python",
   "nbconvert_exporter": "python",
   "pygments_lexer": "ipython3",
   "version": "3.8.13"
  },
  "orig_nbformat": 4,
  "vscode": {
   "interpreter": {
    "hash": "83aca62f18954cf13f96418a44a5b107d52f853e6c55d41e444eea0993e5d51e"
   }
  }
 },
 "nbformat": 4,
 "nbformat_minor": 2
}
