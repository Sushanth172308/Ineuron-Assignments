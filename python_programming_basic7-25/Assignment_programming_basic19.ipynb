{
 "cells": [
  {
   "cell_type": "markdown",
   "metadata": {},
   "source": [
    "Question1\n",
    "Create a function that takes a string and returns a string in which each character is repeated\n",
    "once.\n",
    "Examples\n",
    "double_char(&quot;String&quot;) ➞ &quot;SSttrriinngg&quot;\n",
    "double_char(&quot;Hello World!&quot;) ➞ &quot;HHeelllloo WWoorrlldd!!&quot;\n",
    "double_char(&quot;1234!_ &quot;) ➞ &quot;11223344!!__ &quot;\n",
    "\n"
   ]
  },
  {
   "cell_type": "code",
   "execution_count": 1,
   "metadata": {},
   "outputs": [
    {
     "name": "stdout",
     "output_type": "stream",
     "text": [
      "➞ SSttrriinngg\n",
      "➞ HHeelllloo  WWoorrlldd!!\n",
      "➞ 11223344!!__\n"
     ]
    }
   ],
   "source": [
    "def repeatChar(str):\n",
    "    out_put = ''\n",
    "    for i in str:\n",
    "        out_put  += i*2\n",
    "    return out_put\n",
    "print(f'➞ {repeatChar(\"String\")}')\n",
    "print(f'➞ {repeatChar(\"Hello World!\")}')\n",
    "print(f'➞ {repeatChar(\"1234!_\")}')      "
   ]
  },
  {
   "cell_type": "markdown",
   "metadata": {},
   "source": [
    "Question2\n",
    "Create a function that reverses a boolean value and returns the string &quot;boolean expected&quot;\n",
    "if another variable type is given.\n",
    "Examples\n",
    "reverse(True) ➞ False\n",
    "reverse(False) ➞ True\n",
    "reverse(0) ➞ &quot;boolean expected&quot;\n",
    "reverse(None) ➞ &quot;boolean expected&quot;\n",
    "\n"
   ]
  },
  {
   "cell_type": "code",
   "execution_count": 2,
   "metadata": {},
   "outputs": [
    {
     "name": "stdout",
     "output_type": "stream",
     "text": [
      "reverse(True) ➞ False\n",
      "reverse(False) ➞ True\n",
      "reverse(0) ➞ Boolean Expected\n",
      "reverse(None) ➞ Boolean Expected\n"
     ]
    }
   ],
   "source": [
    "def reverseBool(in_put):\n",
    "    if type(in_put) == bool:\n",
    "        return not in_put\n",
    "    else:\n",
    "        return \"Boolean Expected\"\n",
    "\n",
    "print(f'reverse(True) ➞ {reverseBool(True)}')\n",
    "print(f'reverse(False) ➞ {reverseBool(False)}')\n",
    "print(f'reverse(0) ➞ {reverseBool(0)}')\n",
    "print(f'reverse(None) ➞ {reverseBool(None)}')"
   ]
  },
  {
   "cell_type": "markdown",
   "metadata": {},
   "source": [
    "Question3\n",
    "Create a function that returns the thickness (in meters) of a piece of paper after folding it n\n",
    "number of times. The paper starts off with a thickness of 0.5mm.\n",
    "Examples\n",
    "num_layers(1) ➞ &quot;0.001m&quot;\n",
    "# Paper folded once is 1mm (equal to 0.001m)\n",
    "num_layers(4) ➞ &quot;0.008m&quot;\n",
    "# Paper folded 4 times is 8mm (equal to 0.008m)\n",
    "num_layers(21) ➞ &quot;1048.576m&quot;\n",
    "# Paper folded 21 times is 1048576mm (equal to 1048.576m)\n",
    "\n"
   ]
  },
  {
   "cell_type": "code",
   "execution_count": 4,
   "metadata": {},
   "outputs": [
    {
     "name": "stdout",
     "output_type": "stream",
     "text": [
      "Output ➞ 0.001m\n",
      "Output ➞ 0.008m\n",
      "Output ➞ 1048.576m\n"
     ]
    }
   ],
   "source": [
    "def layers(in_num):\n",
    "    out_num = 0.5\n",
    "    for i in range(in_num):\n",
    "        out_num *= 2\n",
    "    print(f'Output ➞ {out_num/1000}m')\n",
    "    \n",
    "layers(1)\n",
    "layers(4)\n",
    "layers(21)"
   ]
  },
  {
   "cell_type": "markdown",
   "metadata": {},
   "source": [
    "Question4\n",
    "\n",
    "Create a function that takes a single string as argument and returns an ordered list containing\n",
    "the indices of all capital letters in the string.\n",
    "Examples\n",
    "index_of_caps(&quot;eDaBiT&quot;) ➞ [1, 3, 5]\n",
    "index_of_caps(&quot;eQuINoX&quot;) ➞ [1, 3, 4, 6]\n",
    "index_of_caps(&quot;determine&quot;) ➞ []\n",
    "index_of_caps(&quot;STRIKE&quot;) ➞ [0, 1, 2, 3, 4, 5]\n",
    "index_of_caps(&quot;sUn&quot;) ➞ [1]\n"
   ]
  },
  {
   "cell_type": "code",
   "execution_count": 5,
   "metadata": {},
   "outputs": [
    {
     "name": "stdout",
     "output_type": "stream",
     "text": [
      "eDaBiT ➞ [1, 3, 5]\n",
      "eQuINoX ➞ [1, 3, 4, 6]\n",
      "determine ➞ []\n",
      "STRIKE ➞ [0, 1, 2, 3, 4, 5]\n",
      "sUn ➞ [1]\n"
     ]
    }
   ],
   "source": [
    "def indexCaps(in_string):\n",
    "    out_put = []\n",
    "    for i in in_string:\n",
    "        if i.isupper():\n",
    "            out_put.append(in_string.index(i))\n",
    "    print(f'{in_string} ➞ {out_put}')\n",
    "\n",
    "indexCaps(\"eDaBiT\")\n",
    "indexCaps(\"eQuINoX\")\n",
    "indexCaps(\"determine\")\n",
    "indexCaps(\"STRIKE\")\n",
    "indexCaps(\"sUn\")"
   ]
  },
  {
   "cell_type": "markdown",
   "metadata": {},
   "source": [
    "\n",
    "Question5\n",
    "Using list comprehensions, create a function that finds all even numbers from 1 to the given\n",
    "number.\n",
    "Examples\n",
    "find_even_nums(8) ➞ [2, 4, 6, 8]\n",
    "find_even_nums(4) ➞ [2, 4]\n",
    "find_even_nums(2) ➞ [2]"
   ]
  },
  {
   "cell_type": "code",
   "execution_count": 6,
   "metadata": {},
   "outputs": [
    {
     "name": "stdout",
     "output_type": "stream",
     "text": [
      "out_put is :[2, 4, 6, 8]\n",
      "out_put is :[2, 4]\n",
      "out_put is :[2]\n"
     ]
    }
   ],
   "source": [
    "def findEvenNubers(in_put):\n",
    "    out_put=[i for i in range(1,in_put+1) if i%2==0]\n",
    "    print(f'out_put is :{out_put}')\n",
    "\n",
    "findEvenNubers(8)\n",
    "findEvenNubers(4)\n",
    "findEvenNubers(2)    "
   ]
  }
 ],
 "metadata": {
  "kernelspec": {
   "display_name": "Python 3.8.13 (conda)",
   "language": "python",
   "name": "python3"
  },
  "language_info": {
   "codemirror_mode": {
    "name": "ipython",
    "version": 3
   },
   "file_extension": ".py",
   "mimetype": "text/x-python",
   "name": "python",
   "nbconvert_exporter": "python",
   "pygments_lexer": "ipython3",
   "version": "3.8.13"
  },
  "orig_nbformat": 4,
  "vscode": {
   "interpreter": {
    "hash": "83aca62f18954cf13f96418a44a5b107d52f853e6c55d41e444eea0993e5d51e"
   }
  }
 },
 "nbformat": 4,
 "nbformat_minor": 2
}
