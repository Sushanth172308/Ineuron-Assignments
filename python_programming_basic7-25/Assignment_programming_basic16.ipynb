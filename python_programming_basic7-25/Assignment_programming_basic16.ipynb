{
 "cells": [
  {
   "cell_type": "markdown",
   "metadata": {},
   "source": [
    "Question1. Write a function that stutters a word as if someone is struggling to read it. The\n",
    "first two letters are repeated twice with an ellipsis ... and space after each, and then the\n",
    "word is pronounced with a question mark ?.\n",
    "Examples\n",
    "stutter(&quot;incredible&quot;) ➞ &quot;in... in... incredible?&quot;\n",
    "stutter(&quot;enthusiastic&quot;) ➞ &quot;en... en... enthusiastic?&quot;\n",
    "stutter(&quot;outstanding&quot;) ➞ &quot;ou... ou... outstanding?&quot;\n",
    "\n",
    "Hint :- Assume all input is in lower case and at least two characters long.\n",
    "\n"
   ]
  },
  {
   "cell_type": "code",
   "execution_count": 1,
   "metadata": {},
   "outputs": [
    {
     "name": "stdout",
     "output_type": "stream",
     "text": [
      "incredible->in... in... incredible?\n",
      "enthusiastic->en... en... enthusiastic?\n",
      "outstanding->ou... ou... outstanding?\n"
     ]
    }
   ],
   "source": [
    "def stutWord():\n",
    "    in_put =input('Enter the word')\n",
    "    out_put =in_put.replace(in_put[0:2],((in_put[0:2]+'... ')*2)+ in_put[0:2])  +'?'\n",
    "    print(f'{in_put}->{out_put}')\n",
    "\n",
    "for i in range(3):\n",
    "    stutWord()    "
   ]
  },
  {
   "cell_type": "markdown",
   "metadata": {},
   "source": [
    "Question 2.Create a function that takes an angle in radians and returns the corresponding\n",
    "angle in degrees rounded to one decimal place.\n",
    "Examples\n",
    "radians_to_degrees(1) ➞ 57.3\n",
    "radians_to_degrees(20) ➞ 1145.9\n",
    "radians_to_degrees(50) ➞ 2864.8\n",
    "\n"
   ]
  },
  {
   "cell_type": "code",
   "execution_count": 8,
   "metadata": {},
   "outputs": [
    {
     "name": "stdout",
     "output_type": "stream",
     "text": [
      "1 radian(s)->out_put=57.3 degree\n",
      "20 radian(s)->out_put=1145.9 degree\n",
      "50 radian(s)->out_put=2864.8 degree\n"
     ]
    }
   ],
   "source": [
    "import math\n",
    "def radToDeg():\n",
    "    in_put= int(input('Enter the angle in Radius: '))\n",
    "    out_put =(180/math.pi)*in_put\n",
    "    print(f'{in_put} radian(s)->{out_put=:.1f} degree')\n",
    "   \n",
    "\n",
    "for i in range(3):\n",
    "  radToDeg()   \n"
   ]
  },
  {
   "cell_type": "markdown",
   "metadata": {},
   "source": [
    "Question 3. In this challenge, establish if a given integer num is a Curzon number. If 1 plus\n",
    "2 elevated to num is exactly divisible by 1 plus 2 multiplied by num, then num is a Curzon\n",
    "number.\n",
    "Given a non-negative integer num, implement a function that returns True if num is a Curzon\n",
    "number, or False otherwise.\n",
    "Examples\n",
    "is_curzon(5) ➞ True\n",
    "# 2 ** 5 + 1 = 33\n",
    "# 2 * 5 + 1 = 11\n",
    "# 33 is a multiple of 11\n",
    "is_curzon(10) ➞ False\n",
    "# 2 ** 10 + 1 = 1025\n",
    "# 2 * 10 + 1 = 21\n",
    "# 1025 is not a multiple of 21\n",
    "is_curzon(14) ➞ True\n",
    "# 2 ** 14 + 1 = 16385\n",
    "# 2 * 14 + 1 = 29\n",
    "# 16385 is a multiple of 29\n",
    "\n"
   ]
  },
  {
   "cell_type": "code",
   "execution_count": 9,
   "metadata": {},
   "outputs": [
    {
     "name": "stdout",
     "output_type": "stream",
     "text": [
      "5 is a Curzon Number\n",
      "10 is Not a Curzon Number\n",
      "14 is a Curzon Number\n"
     ]
    }
   ],
   "source": [
    "def Curzon():\n",
    "    in_put = int(input(\"Enter a number: \"))\n",
    "    if (pow(2,in_put)+1)%((2*in_put)+1) == 0:\n",
    "        print(f'{in_put} is a Curzon Number')\n",
    "    else:\n",
    "        print(f'{in_put} is Not a Curzon Number')\n",
    "\n",
    "for x in range(3):\n",
    "    Curzon()"
   ]
  },
  {
   "cell_type": "markdown",
   "metadata": {},
   "source": [
    "Question 4.Given the side length x find the area of a hexagon.\n",
    "\n",
    "Examples\n",
    "area_of_hexagon(1) ➞ 2.6\n",
    "area_of_hexagon(2) ➞ 10.4\n",
    "area_of_hexagon(3) ➞ 23.4\n",
    "\n"
   ]
  },
  {
   "cell_type": "code",
   "execution_count": 10,
   "metadata": {},
   "outputs": [
    {
     "name": "stdout",
     "output_type": "stream",
     "text": [
      "Area for Hexagon of sidelength 1 ➞ 2.6\n",
      "Area for Hexagon of sidelength 2 ➞ 10.4\n",
      "Area for Hexagon of sidelength 3 ➞ 23.4\n"
     ]
    }
   ],
   "source": [
    "import math\n",
    "def areaHexagon():\n",
    "    in_put = int(input('Enter the side length of a Hexagon: '))\n",
    "    out_put = ((3*math.sqrt(3))/2)*(pow(in_put,2))\n",
    "    print(f'Area for Hexagon of sidelength {in_put} ➞ {out_put:.1f}')\n",
    "    \n",
    "for i in range(3):\n",
    "    areaHexagon()"
   ]
  },
  {
   "cell_type": "markdown",
   "metadata": {},
   "source": [
    "Question 5. Create a function that returns a base-2 (binary) representation of a base-10\n",
    "(decimal) string number. To convert is simple: ((2) means base-2 and (10) means base-10)\n",
    "010101001(2) = 1 + 8 + 32 + 128.\n",
    "Going from right to left, the value of the most right bit is 1, now from that every bit to the left\n",
    "will be x2 the value, value of an 8 bit binary numbers are (256, 128, 64, 32, 16, 8, 4, 2, 1).\n",
    "Examples\n",
    "binary(1) ➞ &quot;1&quot;\n",
    "# 1*1 = 1\n",
    "binary(5) ➞ &quot;101&quot;\n",
    "# 1*1 + 1*4 = 5\n",
    "binary(10) ➞ &quot;1010&quot;\n",
    "# 1*2 + 1*8 = 10"
   ]
  },
  {
   "cell_type": "code",
   "execution_count": 11,
   "metadata": {},
   "outputs": [
    {
     "name": "stdout",
     "output_type": "stream",
     "text": [
      "Binary of 1 ➞ 1\n",
      "Binary of 5 ➞ 101\n",
      "Binary of 10 ➞ 1010\n"
     ]
    }
   ],
   "source": [
    "def Binary():\n",
    "    in_put = int(input(\"Enter a Number: \"))\n",
    "    out_put = bin(in_put).replace('0b','') \n",
    "    print(f'Binary of {in_put} ➞ {out_put}')\n",
    "\n",
    "for i in range(3):\n",
    "    Binary()"
   ]
  }
 ],
 "metadata": {
  "kernelspec": {
   "display_name": "Python 3.8.13 (conda)",
   "language": "python",
   "name": "python3"
  },
  "language_info": {
   "codemirror_mode": {
    "name": "ipython",
    "version": 3
   },
   "file_extension": ".py",
   "mimetype": "text/x-python",
   "name": "python",
   "nbconvert_exporter": "python",
   "pygments_lexer": "ipython3",
   "version": "3.8.13"
  },
  "orig_nbformat": 4,
  "vscode": {
   "interpreter": {
    "hash": "83aca62f18954cf13f96418a44a5b107d52f853e6c55d41e444eea0993e5d51e"
   }
  }
 },
 "nbformat": 4,
 "nbformat_minor": 2
}
