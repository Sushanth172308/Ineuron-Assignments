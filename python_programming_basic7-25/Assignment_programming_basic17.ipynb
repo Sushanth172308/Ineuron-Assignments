{
 "cells": [
  {
   "cell_type": "markdown",
   "metadata": {},
   "source": [
    "Question1. Create a function that takes three arguments a, b, c and returns the sum of the\n",
    "numbers that are evenly divided by c from the range a, b inclusive.\n",
    "Examples\n",
    "evenly_divisible(1, 10, 20) ➞ 0\n",
    "# No number between 1 and 10 can be evenly divided by 20.\n",
    "evenly_divisible(1, 10, 2) ➞ 30\n",
    "# 2 + 4 + 6 + 8 + 10 = 30\n",
    "evenly_divisible(1, 10, 3) ➞ 18\n",
    "# 3 + 6 + 9 = 18\n",
    "\n"
   ]
  },
  {
   "cell_type": "code",
   "execution_count": 4,
   "metadata": {},
   "outputs": [
    {
     "name": "stdout",
     "output_type": "stream",
     "text": [
      "(1, 10, 20) ➞ 0\n",
      "(1, 10, 2) ➞ 30\n",
      "(1, 10, 3) ➞ 18\n"
     ]
    }
   ],
   "source": [
    "def evenlyDivisible(a,b,c):\n",
    "    list = []\n",
    "    for i in range(a,b+1):\n",
    "        if i%c == 0:\n",
    "            list.append(i)\n",
    "    print(f'{a,b,c} ➞ {sum(list)}')\n",
    "\n",
    "evenlyDivisible(1,10,20)\n",
    "evenlyDivisible(1,10,2)\n",
    "evenlyDivisible(1,10,3)"
   ]
  },
  {
   "cell_type": "markdown",
   "metadata": {},
   "source": [
    "Question2. Create a function that returns True if a given inequality expression is correct and\n",
    "False otherwise.\n",
    "Examples\n",
    "correct_signs(&quot;3 &lt; 7 &lt; 11&quot;) ➞ True\n",
    "correct_signs(&quot;13 &gt; 44 &gt; 33 &gt; 1&quot;) ➞ False\n",
    "correct_signs(&quot;1 &lt; 2 &lt; 6 &lt; 9 &gt; 3&quot;) ➞ True\n",
    "\n"
   ]
  },
  {
   "cell_type": "code",
   "execution_count": 6,
   "metadata": {},
   "outputs": [
    {
     "name": "stdout",
     "output_type": "stream",
     "text": [
      "3 <7<11 --> True\n",
      "13 > 44 > 33 > 1 --> False\n",
      " 1 < 2 < 6 < 9 > 3 --> True\n"
     ]
    }
   ],
   "source": [
    "def equalityCheck():\n",
    "    in_put =input('Enter the inequality: ')\n",
    "    out_bool =eval(in_put)\n",
    "    print(f'{in_put} --> {out_bool}')\n",
    "\n",
    "for i in range(3):\n",
    "    equalityCheck()    "
   ]
  },
  {
   "cell_type": "markdown",
   "metadata": {},
   "source": [
    "Question3. Create a function that replaces all the vowels in a string with a specified character.\n",
    "Examples\n",
    "replace_vowels(&quot;the aardvark&quot;, &quot;#&quot;) ➞ &quot;th# ##rdv#rk&quot;\n",
    "replace_vowels(&quot;minnie mouse&quot;, &quot;?&quot;) ➞ &quot;m?nn?? m??s?&quot;\n",
    "replace_vowels(&quot;shakespeare&quot;, &quot;*&quot;) ➞ &quot;sh*k*sp**r*&quot;\n",
    "\n"
   ]
  },
  {
   "cell_type": "code",
   "execution_count": 8,
   "metadata": {},
   "outputs": [
    {
     "name": "stdout",
     "output_type": "stream",
     "text": [
      "the aardvark # ➞ th# ##rdv#rk\n",
      "minnie mouse  ? ➞ m ?nn ? ? m ? ?s ?\n",
      "shakespeare * ➞ sh*k*sp**r*\n"
     ]
    }
   ],
   "source": [
    "def vowelsReplace():\n",
    "    vowels = ['a','e','i','o','u','A','E','I','O','U']\n",
    "    in_put = input(\"Enter a String: \")\n",
    "    in_string_copy = in_put\n",
    "    in_char = input('Replacement character: ')\n",
    "    for i in in_put:\n",
    "        if i in vowels:\n",
    "            in_put = in_put.replace(i,in_char)\n",
    "    print(f'{in_string_copy} {in_char} ➞ {in_put}')\n",
    "            \n",
    "for i in range(3):\n",
    "    vowelsReplace() "
   ]
  },
  {
   "cell_type": "markdown",
   "metadata": {},
   "source": [
    "Question4. Write a function that calculates the factorial of a number recursively.\n",
    "Examples\n",
    "factorial(5) ➞ 120\n",
    "factorial(3) ➞ 6\n",
    "factorial(1) ➞ 1\n",
    "factorial(0) ➞ 1\n",
    "\n"
   ]
  },
  {
   "cell_type": "code",
   "execution_count": 9,
   "metadata": {},
   "outputs": [
    {
     "name": "stdout",
     "output_type": "stream",
     "text": [
      "factorial(5) ➞ 120\n",
      "factorial(3) ➞ 6\n",
      "factorial(1) ➞ 1\n",
      "factorial(0) ➞ 1\n"
     ]
    }
   ],
   "source": [
    "def fact(n):\n",
    "    if n==0:\n",
    "        return 1\n",
    "    return n * fact(n-1)\n",
    "\n",
    "print(f'factorial(5) ➞ {fact(5)}')\n",
    "print(f'factorial(3) ➞ {fact(3)}')\n",
    "print(f'factorial(1) ➞ {fact(1)}')\n",
    "print(f'factorial(0) ➞ {fact(0)}')"
   ]
  },
  {
   "cell_type": "markdown",
   "metadata": {},
   "source": [
    "Question 5\n",
    "Hamming distance is the number of characters that differ between two strings.\n",
    "To illustrate:\n",
    "String1: &quot;abcbba&quot;\n",
    "String2: &quot;abcbda&quot;\n",
    "Hamming Distance: 1 - &quot;b&quot; vs. &quot;d&quot; is the only difference.\n",
    "Create a function that computes the hamming distance between two strings.\n",
    "Examples\n",
    "hamming_distance(&quot;abcde&quot;, &quot;bcdef&quot;) ➞ 5\n",
    "hamming_distance(&quot;abcde&quot;, &quot;abcde&quot;) ➞ 0\n",
    "hamming_distance(&quot;strong&quot;, &quot;strung&quot;) ➞ 1"
   ]
  },
  {
   "cell_type": "code",
   "execution_count": 10,
   "metadata": {},
   "outputs": [
    {
     "name": "stdout",
     "output_type": "stream",
     "text": [
      "Hamning Distance between abcde and bcdef ➞ 5\n",
      "Hamning Distance between abcde and abcde ➞ 0\n",
      "Hamning Distance between strong and strung ➞ 1\n"
     ]
    }
   ],
   "source": [
    "def hamDistance():\n",
    "    in_put_1 = input('Enter the String_1: ')\n",
    "    in_put_2 = input('Enter the String_2: ')\n",
    "    if len(in_put_1) == len(in_put_2):\n",
    "        count = 0\n",
    "        for i in range(len(in_put_1)):\n",
    "            if in_put_1[i] != in_put_2[i]:\n",
    "                count = count+1\n",
    "        print(f'Hamning Distance between {in_put_1} and {in_put_2} ➞ {count}')\n",
    "    else:\n",
    "        print('Both Strings Must be of Same Length')\n",
    "\n",
    "for i in range(3):\n",
    "    hamDistance()"
   ]
  }
 ],
 "metadata": {
  "kernelspec": {
   "display_name": "Python 3.8.13 (conda)",
   "language": "python",
   "name": "python3"
  },
  "language_info": {
   "codemirror_mode": {
    "name": "ipython",
    "version": 3
   },
   "file_extension": ".py",
   "mimetype": "text/x-python",
   "name": "python",
   "nbconvert_exporter": "python",
   "pygments_lexer": "ipython3",
   "version": "3.8.13"
  },
  "orig_nbformat": 4,
  "vscode": {
   "interpreter": {
    "hash": "83aca62f18954cf13f96418a44a5b107d52f853e6c55d41e444eea0993e5d51e"
   }
  }
 },
 "nbformat": 4,
 "nbformat_minor": 2
}
