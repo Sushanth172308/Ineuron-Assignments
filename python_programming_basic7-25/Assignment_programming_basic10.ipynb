{
 "cells": [
  {
   "cell_type": "markdown",
   "metadata": {},
   "source": [
    "1. Write a Python program to find sum of elements in list?\n"
   ]
  },
  {
   "cell_type": "code",
   "execution_count": 4,
   "metadata": {},
   "outputs": [
    {
     "name": "stdout",
     "output_type": "stream",
     "text": [
      "3\n",
      "The list is [3]\n",
      "The list is [3, 1]\n",
      "The list is [3, 1, 2]\n",
      "Sum of Elements:6\n"
     ]
    }
   ],
   "source": [
    "def sumofLIst():\n",
    "    in_put =int(input('Enter a lenth of  list: '))\n",
    "    print(in_put)\n",
    "    in_list =[]\n",
    "    \n",
    "    for i in range(in_put):\n",
    "        in_list.append(int(input('Enter a number:')))\n",
    "        print('The list is',in_list)\n",
    "    print(f'Sum of Elements:{sum(in_list)}')\n",
    "sumofLIst()    "
   ]
  },
  {
   "cell_type": "markdown",
   "metadata": {},
   "source": [
    "2. Write a Python program to Multiply all numbers in the list?\n"
   ]
  },
  {
   "cell_type": "code",
   "execution_count": 9,
   "metadata": {},
   "outputs": [
    {
     "name": "stdout",
     "output_type": "stream",
     "text": [
      "4\n",
      "The list is: [1]\n",
      "The list is: [1, 2]\n",
      "The list is: [1, 2, 3]\n",
      "The list is: [1, 2, 3, 4]\n",
      "the product is:24\n"
     ]
    }
   ],
   "source": [
    "def multiofLIst():\n",
    "    in_put =int(input('Enter a lenth of  list: '))\n",
    "    print(in_put)\n",
    "    in_list =[]\n",
    "    mul =1\n",
    "    \n",
    "    for i in range(in_put):\n",
    "        in_list.append(int(input('Enter a number:')))\n",
    "        print('The list is:',in_list)\n",
    "    for el in in_list:\n",
    "        mul=mul*el    \n",
    "    print(f'the product is:{mul}')\n",
    "multiofLIst()   "
   ]
  },
  {
   "cell_type": "markdown",
   "metadata": {},
   "source": [
    "3. Write a Python program to find smallest number in a list?\n"
   ]
  },
  {
   "cell_type": "code",
   "execution_count": 3,
   "metadata": {},
   "outputs": [
    {
     "name": "stdout",
     "output_type": "stream",
     "text": [
      "lenth of list is:3\n",
      "[3]\n",
      "[3, 2]\n",
      "[3, 2, 5]\n",
      "The smallest number is: 2\n"
     ]
    }
   ],
   "source": [
    "def smallesNumber():\n",
    "    in_list =int(input('Enter the lenth of list: '))\n",
    "    print(f'lenth of list is:{in_list}')\n",
    "    out_put =[]\n",
    "    for i in range(in_list):\n",
    "        out_put.append(int(input('Enter the numbers: ')))\n",
    "        print(out_put)\n",
    "    print(f'The smallest number is: {min(out_put)}')\n",
    "    \n",
    "smallesNumber()    "
   ]
  },
  {
   "cell_type": "markdown",
   "metadata": {},
   "source": [
    "4. Write a Python program to find largest number in a list?\n"
   ]
  },
  {
   "cell_type": "code",
   "execution_count": 13,
   "metadata": {},
   "outputs": [
    {
     "name": "stdout",
     "output_type": "stream",
     "text": [
      "lenth of list is:5\n",
      "[5]\n",
      "[5, 4]\n",
      "[5, 4, 1]\n",
      "[5, 4, 1, 5]\n",
      "[5, 4, 1, 5, 8]\n",
      "The larget number of  list [5, 4, 1, 5, 8] is 7\n"
     ]
    }
   ],
   "source": [
    "def largetNumber():\n",
    "    list =int(input('Enter the lenth of list '))\n",
    "    print(f'lenth of list is:{list}')\n",
    "    final_list =[]\n",
    "    for i in range(list):\n",
    "        final_list.append(int(input('Enter the numbers: ')))\n",
    "        print(final_list)\n",
    "    print(f'The larget number of  list {final_list} is {max(final_list)}')\n",
    "largetNumber()    "
   ]
  },
  {
   "cell_type": "markdown",
   "metadata": {},
   "source": [
    "5. Write a Python program to find second largest number in a list?\n"
   ]
  },
  {
   "cell_type": "code",
   "execution_count": 2,
   "metadata": {},
   "outputs": [
    {
     "name": "stdout",
     "output_type": "stream",
     "text": [
      "lenth of the list is:3\n",
      "[5]\n",
      "[5, 8]\n",
      "[5, 8, 6]\n",
      "The second largest number in [5, 8, 6] is 6\n"
     ]
    }
   ],
   "source": [
    "def secondLargetNumber():\n",
    "    list =int(input('Enter the lenth of the list'))\n",
    "    print(f'lenth of the list is:{list}')\n",
    "    in_put =[]\n",
    "    for i in range(list):\n",
    "        in_put.append(int(input('Enter the numbers')))\n",
    "        print(in_put)\n",
    "    print(f'The second largest number in {in_put} is {sorted(in_put,reverse=True)[1]}')    \n",
    "secondLargetNumber()    "
   ]
  },
  {
   "cell_type": "markdown",
   "metadata": {},
   "source": [
    "6. Write a Python program to find N largest elements from a list?\n"
   ]
  },
  {
   "cell_type": "code",
   "execution_count": 9,
   "metadata": {},
   "outputs": [
    {
     "name": "stdout",
     "output_type": "stream",
     "text": [
      "5\n",
      "[4]\n",
      "[4, 6]\n",
      "[4, 6, 7]\n",
      "[4, 6, 7, 9]\n",
      "[4, 6, 7, 9, 2]\n",
      "3 larget elements in list [4, 6, 7, 9, 2] are:[9, 7, 6]\n"
     ]
    }
   ],
   "source": [
    "def nLargest(s):\n",
    "    list =int(input('Enter the lenth of the list'))\n",
    "    print(list)\n",
    "    in_put= []\n",
    "    for i in range(list):\n",
    "        in_put.append(int(input('Enter the numbers')))\n",
    "        print(in_put)\n",
    "    print(f'{s} larget elements in list {in_put} are:{sorted(in_put, reverse=True)[0:s]}')\n",
    "nLargest(3)        "
   ]
  },
  {
   "cell_type": "markdown",
   "metadata": {},
   "source": [
    "7. Write a Python program to print even numbers in a list?\n"
   ]
  },
  {
   "cell_type": "code",
   "execution_count": 14,
   "metadata": {},
   "outputs": [
    {
     "name": "stdout",
     "output_type": "stream",
     "text": [
      "5\n",
      "[4]\n",
      "[4, 2]\n",
      "[4, 2, 5]\n",
      "[4, 2, 5, 3]\n",
      "[4, 2, 5, 3, 1]\n",
      "enven numbers in list [4, 2, 5, 3, 1] are: [4, 2] \n"
     ]
    }
   ],
   "source": [
    "def evenNumbers():\n",
    "    list =int(input('Enter the lenth of the list: '))\n",
    "    print(list)\n",
    "    in_put =[]\n",
    "    even_list=[]\n",
    "    for i in range(list):\n",
    "        in_put.append(int(input('Enter the numbers in list: ')))\n",
    "        print(in_put)\n",
    "    for i in in_put:\n",
    "        if i%2==0:\n",
    "            even_list.append(i)\n",
    "                \n",
    "    print(f'enven numbers in list {in_put} are: {even_list} ')    \n",
    "evenNumbers() "
   ]
  },
  {
   "cell_type": "markdown",
   "metadata": {},
   "source": [
    "8. Write a Python program to print odd numbers in a List?\n"
   ]
  },
  {
   "cell_type": "code",
   "execution_count": 16,
   "metadata": {},
   "outputs": [
    {
     "name": "stdout",
     "output_type": "stream",
     "text": [
      "Lenth of list is:5\n",
      "Entered numbers are:[5]\n",
      "Entered numbers are:[5, 8]\n",
      "Entered numbers are:[5, 8, 6]\n",
      "Entered numbers are:[5, 8, 6, 3]\n",
      "Entered numbers are:[5, 8, 6, 3, 4]\n",
      "odd number is list[5, 8, 6, 3, 4] are [5, 3]\n"
     ]
    }
   ],
   "source": [
    "def oddNumbers():\n",
    "    list =int(input('Enter the lenth of the list'))\n",
    "    print(f'Lenth of list is:{list}')\n",
    "    in_put=[]\n",
    "    odd_numbers =[]\n",
    "    for i in range(list):\n",
    "        in_put.append(int(input('Enter the numbers:')))\n",
    "        print(f'Entered numbers are:{in_put}')\n",
    "    for i in in_put:\n",
    "        if i%2 != 0:\n",
    "            odd_numbers.append(i)\n",
    "    print(f'odd number is list{in_put} are {odd_numbers}')\n",
    "oddNumbers()                    "
   ]
  },
  {
   "cell_type": "markdown",
   "metadata": {},
   "source": [
    "9. Write a Python program to Remove empty List from List?\n"
   ]
  },
  {
   "cell_type": "code",
   "execution_count": 28,
   "metadata": {},
   "outputs": [
    {
     "name": "stdout",
     "output_type": "stream",
     "text": [
      "List after removing empty list is:[1, 2, 3, 4, 5, 56]\n"
     ]
    }
   ],
   "source": [
    "list =[1,2,3,4,5,[],56]\n",
    "final_list=[i for i in list if i !=[]]\n",
    "print(f'List after removing empty list is:{final_list}')\n"
   ]
  },
  {
   "cell_type": "markdown",
   "metadata": {},
   "source": [
    "10. Write a Python program to Cloning or Copying a list?\n"
   ]
  },
  {
   "cell_type": "code",
   "execution_count": 32,
   "metadata": {},
   "outputs": [
    {
     "name": "stdout",
     "output_type": "stream",
     "text": [
      "4\n",
      "['5', '6', '5', ''] 2012744924736\n",
      "['5', '6', '5', ''] 2012744944512\n"
     ]
    }
   ],
   "source": [
    "def copyList():\n",
    "    list =int(input('Enter the lenth of list:'))\n",
    "    print(list)\n",
    "    in_put =[]\n",
    "    for i in range(list):\n",
    "        in_put.append(input('Enter the numbers'))\n",
    "    print(in_put, id(in_put))\n",
    "    copied_list =in_put.copy()\n",
    "    print(copied_list, id(copied_list))\n",
    "copyList()    "
   ]
  },
  {
   "cell_type": "markdown",
   "metadata": {},
   "source": [
    "11. Write a Python program to Count occurrences of an element in a list?"
   ]
  },
  {
   "cell_type": "code",
   "execution_count": 34,
   "metadata": {},
   "outputs": [
    {
     "name": "stdout",
     "output_type": "stream",
     "text": [
      "The list is: [5, 6, 9, 8, 5]\n",
      "5 occured 2 times in the list\n"
     ]
    }
   ],
   "source": [
    "list =int(input('Enter the lenth of the list'))\n",
    "in_put =[]\n",
    "\n",
    "for i in range(list):\n",
    "    in_put.append(int(input()))\n",
    "print(f'The list is: {in_put}')\n",
    "out_put =int(input('Enter the elements to find out the occurrences: '))\n",
    "print(f'{out_put} occured {in_put.count(out_put)} times in the list')   "
   ]
  }
 ],
 "metadata": {
  "kernelspec": {
   "display_name": "Python 3.8.13 (conda)",
   "language": "python",
   "name": "python3"
  },
  "language_info": {
   "codemirror_mode": {
    "name": "ipython",
    "version": 3
   },
   "file_extension": ".py",
   "mimetype": "text/x-python",
   "name": "python",
   "nbconvert_exporter": "python",
   "pygments_lexer": "ipython3",
   "version": "3.8.13"
  },
  "orig_nbformat": 4,
  "vscode": {
   "interpreter": {
    "hash": "83aca62f18954cf13f96418a44a5b107d52f853e6c55d41e444eea0993e5d51e"
   }
  }
 },
 "nbformat": 4,
 "nbformat_minor": 2
}
