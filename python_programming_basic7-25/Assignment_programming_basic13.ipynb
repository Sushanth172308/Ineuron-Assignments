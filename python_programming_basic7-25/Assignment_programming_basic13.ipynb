{
 "cells": [
  {
   "cell_type": "markdown",
   "metadata": {},
   "source": [
    "Question 1:\n",
    "Write a program that calculates and prints the value according to the given formula:\n",
    "Q = Square root of [(2 * C * D)/H]\n",
    "Following are the fixed values of C and H:\n",
    "C is 50. H is 30.\n",
    "D is the variable whose values should be input to your program in a comma-separated\n",
    "sequence.\n",
    "Example\n",
    "Let us assume the following comma separated input sequence is given to the program:\n",
    "100,150,180\n",
    "The output of the program should be:\n",
    "18,22,24\n",
    "\n"
   ]
  },
  {
   "cell_type": "code",
   "execution_count": 4,
   "metadata": {},
   "outputs": [
    {
     "name": "stdout",
     "output_type": "stream",
     "text": [
      "inputs are: (100, 150, 180)\n",
      "Result:18,22,24\n"
     ]
    }
   ],
   "source": [
    "from math import sqrt\n",
    "def calculateSqrt():\n",
    "    in_put =eval(input('Enter your input: '))\n",
    "    print(f'inputs are: {in_put}')\n",
    "    out_put =[]\n",
    "    C=50\n",
    "    H =30\n",
    "    for i in in_put:\n",
    "        Q= str(int(sqrt((2*C*i)/H)))\n",
    "        out_put.append(Q)\n",
    "    print('Result:{}'.format(','.join(out_put)))\n",
    "calculateSqrt()        "
   ]
  },
  {
   "cell_type": "markdown",
   "metadata": {},
   "source": [
    "Question 2:\n",
    "Write a program which takes 2 digits, X,Y as input and generates a 2-dimensional array. The\n",
    "element value in the i-th row and j-th column of the array should be i*j.\n",
    "Note: i=0,1.., X-1; j=0,1,¡Y-1.\n",
    "Example\n",
    "Suppose the following inputs are given to the program:\n",
    "3,5\n",
    "Then, the output of the program should be:\n",
    "[[0, 0, 0, 0, 0], [0, 1, 2, 3, 4], [0, 2, 4, 6, 8]]\n",
    "\n"
   ]
  },
  {
   "cell_type": "code",
   "execution_count": 7,
   "metadata": {},
   "outputs": [
    {
     "name": "stdout",
     "output_type": "stream",
     "text": [
      "Number of rows:3\n",
      "Number of columns:5\n",
      "[[0, 0, 0, 0, 0], [0, 1, 2, 3, 4], [0, 2, 4, 6, 8]]\n"
     ]
    }
   ],
   "source": [
    "import array as arr\n",
    "def arrayGen():\n",
    "    X = int(input('Enter the Number of Rows:'))\n",
    "    print(f'Number of rows:{X}')\n",
    "    Y = int(input('Enter the Number of Columns:'))\n",
    "    print(f'Number of columns:{Y}') \n",
    "    out_array = []\n",
    "    for i in range(X):\n",
    "        out_array.insert((X),[])\n",
    "        for j in range(Y):\n",
    "            out_array[i].append(i*j)\n",
    "    print(out_array)\n",
    "    \n",
    "arrayGen()"
   ]
  },
  {
   "cell_type": "markdown",
   "metadata": {},
   "source": [
    "Question 3:\n",
    "Write a program that accepts a comma separated sequence of words as input and prints the\n",
    "words in a comma-separated sequence after sorting them alphabetically.\n",
    "Suppose the following input is supplied to the program:\n",
    "without,hello,bag,world\n",
    "Then, the output should be:\n",
    "bag,hello,without,world\n",
    "\n"
   ]
  },
  {
   "cell_type": "code",
   "execution_count": 9,
   "metadata": {},
   "outputs": [
    {
     "name": "stdout",
     "output_type": "stream",
     "text": [
      "Entered string:without,hello,bag,world\n",
      "Result:bag,hello,without,world\n"
     ]
    }
   ],
   "source": [
    "def sortStr():\n",
    "    str_in =input('please enter the string')\n",
    "    print(f'Entered string:{str_in}')\n",
    "    str_out =','.join(sorted(str_in.split(',')))\n",
    "    print(f'Result:{str_out}')\n",
    "\n",
    "sortStr()    "
   ]
  },
  {
   "cell_type": "markdown",
   "metadata": {},
   "source": [
    "Question 4:\n",
    "Write a program that accepts a sequence of whitespace separated words as input and prints\n",
    "the words after removing all duplicate words and sorting them alphanumerically.\n",
    "Suppose the following input is supplied to the program:\n",
    "hello world and practice makes perfect and hello world again\n",
    "Then, the output should be:\n",
    "again and hello makes perfect practice world\n",
    "\n"
   ]
  },
  {
   "cell_type": "code",
   "execution_count": 12,
   "metadata": {},
   "outputs": [
    {
     "name": "stdout",
     "output_type": "stream",
     "text": [
      "Entered string: hello world and practice makes perfect and hello world again\n",
      "Result: again and hello makes perfect practice world\n"
     ]
    }
   ],
   "source": [
    "def sortAlfa():\n",
    "    in_put =input('Please enter the string: ')\n",
    "    print(f'Entered string: {in_put}')\n",
    "    out_put = ' '.join(sorted(sorted(list(set(in_put.split(\" \"))))))\n",
    "    print(f'Result: {out_put}')\n",
    "sortAlfa()    "
   ]
  },
  {
   "cell_type": "markdown",
   "metadata": {},
   "source": [
    "Question 5:\n",
    "Write a program that accepts a sentence and calculate the number of letters and digits.\n",
    "Suppose the following input is supplied to the program:\n",
    "hello world! 123\n",
    "Then, the output should be:\n",
    "LETTERS 10\n",
    "\n",
    "DIGITS 3\n",
    "\n"
   ]
  },
  {
   "cell_type": "code",
   "execution_count": 14,
   "metadata": {},
   "outputs": [
    {
     "name": "stdout",
     "output_type": "stream",
     "text": [
      "Letters: 10 \n",
      "Digits :3\n"
     ]
    }
   ],
   "source": [
    "def coutLetterAndDigit():\n",
    "    in_put =input('Enter the string:')\n",
    "    letters_list ='ABCDEFGHIJKLMNOPQRSTUVWXYZabcdefghijklmnopqrstuvwxyz'\n",
    "    digits_list = '0123456789'\n",
    "    let = 0\n",
    "    dig =0\n",
    "    for i in in_put:\n",
    "        if i in letters_list:\n",
    "            let +=1\n",
    "        if i in digits_list:\n",
    "            dig +=1 \n",
    "    print(f'Letters: {let} \\nDigits :{dig}')\n",
    "coutLetterAndDigit()               "
   ]
  },
  {
   "cell_type": "markdown",
   "metadata": {},
   "source": [
    "Question 6:\n",
    "A website requires the users to input username and password to register. Write a program to\n",
    "check the validity of password input by users.\n",
    "Following are the criteria for checking the password:\n",
    "1. At least 1 letter between [a-z]\n",
    "2. At least 1 number between [0-9]\n",
    "1. At least 1 letter between [A-Z]\n",
    "3. At least 1 character from [$#@]\n",
    "4. Minimum length of transaction password: 6\n",
    "5. Maximum length of transaction password: 12\n",
    "Your program should accept a sequence of comma separated passwords and will check them\n",
    "according to the above criteria. Passwords that match the criteria are to be printed, each\n",
    "separated by a comma.\n",
    "Example\n",
    "If the following passwords are given as input to the program:\n",
    "ABd1234@1,a F1#,2w3E*,2We3345\n",
    "Then, the output of the program should be:\n",
    "ABd1234@1"
   ]
  },
  {
   "cell_type": "code",
   "execution_count": 15,
   "metadata": {},
   "outputs": [
    {
     "name": "stdout",
     "output_type": "stream",
     "text": [
      "ABd1234@1\n"
     ]
    }
   ],
   "source": [
    "def passwordCheck():\n",
    "    in_put = input('Enter the Input String: ')\n",
    "    small_list ='abcdefghijklmnopqrstuvwxyz'\n",
    "    cap_list = 'ABCDEFGHIJKLMNOPQRSTUVWXYZ'\n",
    "    num_list = '0123456789'\n",
    "    special_list = '$#@'\n",
    "    for el in in_put.split(','):\n",
    "        if len(el) <= 12 and len(el) >=6 :\n",
    "            if any(i.isupper() for i in el):\n",
    "                if any(i.islower() for i in el):\n",
    "                    if any(i for i in el if i in special_list):\n",
    "                        print(el)\n",
    "                               \n",
    "passwordCheck() "
   ]
  }
 ],
 "metadata": {
  "kernelspec": {
   "display_name": "Python 3.8.13 (conda)",
   "language": "python",
   "name": "python3"
  },
  "language_info": {
   "codemirror_mode": {
    "name": "ipython",
    "version": 3
   },
   "file_extension": ".py",
   "mimetype": "text/x-python",
   "name": "python",
   "nbconvert_exporter": "python",
   "pygments_lexer": "ipython3",
   "version": "3.8.13"
  },
  "orig_nbformat": 4,
  "vscode": {
   "interpreter": {
    "hash": "83aca62f18954cf13f96418a44a5b107d52f853e6c55d41e444eea0993e5d51e"
   }
  }
 },
 "nbformat": 4,
 "nbformat_minor": 2
}
