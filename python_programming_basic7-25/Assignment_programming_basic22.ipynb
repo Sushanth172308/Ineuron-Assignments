{
 "cells": [
  {
   "cell_type": "markdown",
   "metadata": {},
   "source": [
    "Question1\n",
    "Create a function that takes three parameters where:\n",
    " x is the start of the range (inclusive).\n",
    " y is the end of the range (inclusive).\n",
    " n is the divisor to be checked against.\n",
    "Return an ordered list with numbers in the range that are divisible by the third parameter n.\n",
    "Return an empty list if there are no numbers that are divisible by n.\n",
    "Examples\n",
    "list_operation(1, 10, 3) ➞ [3, 6, 9]\n",
    "list_operation(7, 9, 2) ➞ [8]\n",
    "list_operation(15, 20, 7) ➞ []\n",
    "\n"
   ]
  },
  {
   "cell_type": "code",
   "execution_count": 1,
   "metadata": {},
   "outputs": [
    {
     "name": "stdout",
     "output_type": "stream",
     "text": [
      "Output: ➞ [3, 6, 9]\n",
      "Output: ➞ [8]\n",
      "Output: ➞ []\n"
     ]
    }
   ],
   "source": [
    "def list_operation(start,end,divisor):\n",
    "    out_list = []\n",
    "    for i in range(start,end+1):\n",
    "        if i%divisor == 0:\n",
    "            out_list.append(i)\n",
    "    print(f'Output: ➞ {out_list}')\n",
    "\n",
    "list_operation(1, 10, 3)\n",
    "list_operation(7, 9, 2)\n",
    "list_operation(15, 20, 7)"
   ]
  },
  {
   "cell_type": "markdown",
   "metadata": {},
   "source": [
    "Question2\n",
    "Create a function that takes in two lists and returns True if the second list follows the first list\n",
    "by one element, and False otherwise. In other words, determine if the second list is the first\n",
    "list shifted to the right by 1.\n",
    "Examples\n",
    "simon_says([1, 2], [5, 1]) ➞ True\n",
    "simon_says([1, 2], [5, 5]) ➞ False\n",
    "simon_says([1, 2, 3, 4, 5], [0, 1, 2, 3, 4]) ➞ True\n",
    "simon_says([1, 2, 3, 4, 5], [5, 5, 1, 2, 3]) ➞ False\n",
    "Notes\n",
    " Both input lists will be of the same length, and will have a minimum length of 2.\n",
    " The values of the 0-indexed element in the second list and the n-1th indexed element\n",
    "in the first list do not matter.\n",
    "\n"
   ]
  },
  {
   "cell_type": "code",
   "execution_count": null,
   "metadata": {},
   "outputs": [],
   "source": []
  },
  {
   "cell_type": "markdown",
   "metadata": {},
   "source": [
    "Question3\n",
    "A group of friends have decided to start a secret society. The name will be the first letter of\n",
    "each of their names, sorted in alphabetical order.\n",
    "Create a function that takes in a list of names and returns the name of the secret society.\n",
    "\n",
    "Examples\n",
    "society_name([&quot;Adam&quot;, &quot;Sarah&quot;, &quot;Malcolm&quot;]) ➞ &quot;AMS&quot;\n",
    "society_name([&quot;Harry&quot;, &quot;Newt&quot;, &quot;Luna&quot;, &quot;Cho&quot;]) ➞ &quot;CHLN&quot;\n",
    "society_name([&quot;Phoebe&quot;, &quot;Chandler&quot;, &quot;Rachel&quot;, &quot;Ross&quot;, &quot;Monica&quot;, &quot;Joey&quot;])\n",
    "\n"
   ]
  },
  {
   "cell_type": "markdown",
   "metadata": {},
   "source": [
    "Question4\n",
    "An isogram is a word that has no duplicate letters. Create a function that takes a string and\n",
    "returns either True or False depending on whether or not it&#39;s an &quot;isogram&quot;.\n",
    "Examples\n",
    "is_isogram(&quot;Algorism&quot;) ➞ True\n",
    "is_isogram(&quot;PasSword&quot;) ➞ False\n",
    "# Not case sensitive.\n",
    "is_isogram(&quot;Consecutive&quot;) ➞ False\n",
    "Notes\n",
    " Ignore letter case (should not be case sensitive).\n",
    " All test cases contain valid one word strings.\n",
    "\n"
   ]
  },
  {
   "cell_type": "markdown",
   "metadata": {},
   "source": [
    "Question5\n",
    "Create a function that takes a string and returns True or False, depending on whether the\n",
    "characters are in order or not.\n",
    "Examples\n",
    "is_in_order(&quot;abc&quot;) ➞ True\n",
    "is_in_order(&quot;edabit&quot;) ➞ False\n",
    "is_in_order(&quot;123&quot;) ➞ True\n",
    "is_in_order(&quot;xyzz&quot;) ➞ True\n",
    "Notes\n",
    "You don&#39;t have to handle empty strings."
   ]
  }
 ],
 "metadata": {
  "kernelspec": {
   "display_name": "Python 3.8.13 (conda)",
   "language": "python",
   "name": "python3"
  },
  "language_info": {
   "codemirror_mode": {
    "name": "ipython",
    "version": 3
   },
   "file_extension": ".py",
   "mimetype": "text/x-python",
   "name": "python",
   "nbconvert_exporter": "python",
   "pygments_lexer": "ipython3",
   "version": "3.8.13"
  },
  "orig_nbformat": 4,
  "vscode": {
   "interpreter": {
    "hash": "83aca62f18954cf13f96418a44a5b107d52f853e6c55d41e444eea0993e5d51e"
   }
  }
 },
 "nbformat": 4,
 "nbformat_minor": 2
}
