{
 "cells": [
  {
   "cell_type": "markdown",
   "metadata": {},
   "source": [
    "Q1. Does assigning a value to a string&#39;s indexed character violate Python&#39;s string immutability?\n",
    "\n",
    "A:String’s indexed character cannot to be assigned a New value , as Strings are immutable.\n"
   ]
  },
  {
   "cell_type": "markdown",
   "metadata": {},
   "source": [
    "\n",
    "Q2. Does using the += operator to concatenate strings violate Python&#39;s string immutability? Why or\n",
    "why not?\n",
    "\n",
    "A:+= operator is used to concatenate strings, it does not violate Python’s string immutability Property. Because doing so new creates a new association with data and variable. E.g. str_1=\"a\" and str_1+=\"b. effect of this statements to create string ab and reassign it to variable str_1, any string data is not actually modified.\n",
    "\n"
   ]
  },
  {
   "cell_type": "markdown",
   "metadata": {},
   "source": [
    "Q3. In Python, how many different ways are there to index a character?\n",
    "\n",
    "A:A Character in string can be indexed using string name followed by index number of character in square bracket. Positive Indexing i.e. first index is 0 an so on, or Negative Indexing i.e. last letter is -1 and so on can be used to index a character\n",
    "\n"
   ]
  },
  {
   "cell_type": "markdown",
   "metadata": {},
   "source": [
    "Q4. What is the relationship between indexing and slicing?\n",
    "\n",
    "A:We can access elements of sequence datatypes by using slicing and indexing. Indexing is used to obtaining individual element while slicing for sequence of elements.\n",
    "\n"
   ]
  },
  {
   "cell_type": "markdown",
   "metadata": {},
   "source": [
    "Q5. What is an indexed character&#39;s exact data type? What is the data form of a slicing-generated\n",
    "substring?\n",
    "\n",
    "A:Indexed characters and sliced substrings have datatype String.\n",
    "\n"
   ]
  },
  {
   "cell_type": "markdown",
   "metadata": {},
   "source": [
    "Q6. What is the relationship between string and character &quot;types&quot; in Python?\n",
    "\n",
    "A: Object that contains sequence of character datatypes are called String.\n",
    "\n"
   ]
  },
  {
   "cell_type": "markdown",
   "metadata": {},
   "source": [
    "Q7. Identify at least two operators and one method that allow you to combine one or more smaller\n",
    "strings to create a larger string.\n",
    "\n",
    "A:+, += and * allow to combine one or more smaller strings to create a larger string. .join() method joins element of iterable type like list and tuple to get a combined string.\n",
    "\n"
   ]
  },
  {
   "cell_type": "markdown",
   "metadata": {},
   "source": [
    "Q8. What is the benefit of first checking the target string with in or not in before using the index\n",
    "method to find a substring?\n",
    "\n",
    "A: Checking the target string with in or not Operators before using the index method to find a substring just helps confirming availability of substring and thus avoid raising of ValueError.\n"
   ]
  },
  {
   "cell_type": "markdown",
   "metadata": {},
   "source": [
    "\n",
    "Q9. Which operators and built-in string methods produce simple Boolean (true/false) results?\n",
    "\n",
    "A:he String Operators and built-in methods to Produce Simple Boolean (True/False) Results are:\n",
    "\n",
    "* in\n",
    "* not\n",
    ".isalpha()\n",
    ".isalnum()\n",
    ".isdecimal()\n",
    ".isdigit()\n",
    ".islower()\n",
    ".isnumeric()\n",
    ".isprintable()\n",
    ".isspace()\n",
    ".istitle()"
   ]
  }
 ],
 "metadata": {
  "kernelspec": {
   "display_name": "Python 3.8.13 (conda)",
   "language": "python",
   "name": "python3"
  },
  "language_info": {
   "name": "python",
   "version": "3.8.13"
  },
  "orig_nbformat": 4,
  "vscode": {
   "interpreter": {
    "hash": "83aca62f18954cf13f96418a44a5b107d52f853e6c55d41e444eea0993e5d51e"
   }
  }
 },
 "nbformat": 4,
 "nbformat_minor": 2
}
