{
 "cells": [
  {
   "cell_type": "markdown",
   "metadata": {},
   "source": [
    "Q1. What is the relationship between classes and modules?\n",
    "\n",
    "Q2. How do you make instances and classes?\n",
    "\n",
    "Q3. Where and how should be class attributes created?\n",
    "\n",
    "Q4. Where and how are instance attributes created?\n",
    "\n",
    "Q5. What does the term &quot;self&quot; in a Python class mean?\n",
    "\n",
    "Q6. How does a Python class handle operator overloading?\n",
    "\n",
    "Q7. When do you consider allowing operator overloading of your classes?\n",
    "\n",
    "Q8. What is the most popular form of operator overloading?\n",
    "\n",
    "Q9. What are the two most important concepts to grasp in order to comprehend Python OOP code?"
   ]
  }
 ],
 "metadata": {
  "language_info": {
   "name": "python"
  },
  "orig_nbformat": 4
 },
 "nbformat": 4,
 "nbformat_minor": 2
}
