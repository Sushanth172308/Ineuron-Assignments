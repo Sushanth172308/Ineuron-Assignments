{
 "cells": [
  {
   "cell_type": "markdown",
   "metadata": {},
   "source": [
    "Q1. What is a probability distribution, exactly? If the values are meant to be random, how can you\n",
    "predict them at all?\n",
    "\n",
    "Q2. Is there a distinction between true random numbers and pseudo-random numbers, if there is\n",
    "one? Why are the latter considered “good enough”?\n",
    "\n",
    "Q3. What are the two main factors that influence the behaviour of a &quot;normal&quot; probability distribution?\n",
    "\n",
    "Q4. Provide a real-life example of a normal distribution.\n",
    "\n",
    "Q5. In the short term, how can you expect a probability distribution to behave? What do you think will\n",
    "happen as the number of trials grows?\n",
    "\n",
    "Q6. What kind of object can be shuffled by using random.shuffle?\n",
    "\n",
    "Q7. Describe the math package&#39;s general categories of functions.\n",
    "\n",
    "Q8. What is the relationship between exponentiation and logarithms?\n",
    "\n",
    "Q9. What are the three logarithmic functions that Python supports?"
   ]
  }
 ],
 "metadata": {
  "language_info": {
   "name": "python"
  },
  "orig_nbformat": 4
 },
 "nbformat": 4,
 "nbformat_minor": 2
}
