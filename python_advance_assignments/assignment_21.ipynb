{
 "cells": [
  {
   "cell_type": "markdown",
   "metadata": {},
   "source": [
    "Q1. What is a probability distribution, exactly? If the values are meant to be random, how can you\n",
    "predict them at all?\n",
    "\n",
    "A:A probability distribution describes how a random variable is distributed.\n",
    "\n",
    "It tells us which values a random variable is most likely to take on and which values are less likely. Based on the previous data and the occurences of the random event, we can predict the outcome in terms of probabilities.\n",
    "\n"
   ]
  },
  {
   "cell_type": "markdown",
   "metadata": {},
   "source": [
    "Q2. Is there a distinction between true random numbers and pseudo-random numbers, if there is\n",
    "one? Why are the latter considered “good enough”?\n",
    "\n",
    "A:True Random Numbers are true physical values while pseudo-random numbers are generated internally by a program . Latter is considered good enough as they have sort of uniform distribution.\n",
    "\n"
   ]
  },
  {
   "cell_type": "markdown",
   "metadata": {},
   "source": [
    "Q3. What are the two main factors that influence the behaviour of a &quot;normal&quot; probability distribution?\n",
    "\n",
    "A:Normal Probability Distribution are influenced by two factors mean and the variance.\n",
    "\n"
   ]
  },
  {
   "cell_type": "markdown",
   "metadata": {},
   "source": [
    "Q4. Provide a real-life example of a normal distribution.\n",
    "\n",
    "A: A Real-life example of a normal distribution are heights or blood pressure measurements\n",
    "\n"
   ]
  },
  {
   "cell_type": "markdown",
   "metadata": {},
   "source": [
    "Q5. In the short term, how can you expect a probability distribution to behave? What do you think will\n",
    "happen as the number of trials grows?\n",
    "\n",
    "A:Variance will decrease with number of trials\n",
    "\n"
   ]
  },
  {
   "cell_type": "markdown",
   "metadata": {},
   "source": [
    "Q6. What kind of object can be shuffled by using random.shuffle?\n",
    "\n",
    "A:lists (list), strings (str) and tuples (tuple) objects can be shuffled by using random.shuffle.\n",
    "\n"
   ]
  },
  {
   "cell_type": "markdown",
   "metadata": {},
   "source": [
    "Q7. Describe the math package&#39;s general categories of functions.\n",
    "\n",
    "A:The Math package's general categories of functions are:\n",
    "\n",
    "* Trigonometric functions\n",
    "* Quadratic functions\n",
    "* Exponential functions\n",
    "* Hyperbolic functions\n",
    "* Periodic functions\n",
    "* Arithmetic functions\n",
    "* Logarithimic functions\n",
    "* Conversions to Integer\n",
    "\n"
   ]
  },
  {
   "cell_type": "markdown",
   "metadata": {},
   "source": [
    "Q8. What is the relationship between exponentiation and logarithms?\n",
    "\n",
    "A:Exponentiation and logarithms are inverse of each other.\n",
    "\n"
   ]
  },
  {
   "cell_type": "markdown",
   "metadata": {},
   "source": [
    "Q9. What are the three logarithmic functions that Python supports?\n",
    "\n",
    "A: The Three Logarithmic Functions that Python supports are:\n",
    "\n",
    "1. log2(x) - logarithmic value of x to base 2\n",
    "2. log10(x) - logarithmic value of x to base 10\n",
    "3. log1p(a) - This function is used to compute logarithm(1+a) ."
   ]
  }
 ],
 "metadata": {
  "kernelspec": {
   "display_name": "Python 3.8.13 (conda)",
   "language": "python",
   "name": "python3"
  },
  "language_info": {
   "name": "python",
   "version": "3.8.13"
  },
  "orig_nbformat": 4,
  "vscode": {
   "interpreter": {
    "hash": "83aca62f18954cf13f96418a44a5b107d52f853e6c55d41e444eea0993e5d51e"
   }
  }
 },
 "nbformat": 4,
 "nbformat_minor": 2
}
