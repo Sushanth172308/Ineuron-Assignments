{
 "cells": [
  {
   "cell_type": "markdown",
   "metadata": {},
   "source": [
    "Q1. Which two operator overloading methods can you use in your classes to support iteration?\n",
    "\n",
    "Q2. In what contexts do the two operator overloading methods manage printing?\n",
    "\n",
    "Q3. In a class, how do you intercept slice operations?\n",
    "\n",
    "Q4. In a class, how do you capture in-place addition?\n",
    "\n",
    "Q5. When is it appropriate to use operator overloading?"
   ]
  }
 ],
 "metadata": {
  "language_info": {
   "name": "python"
  },
  "orig_nbformat": 4
 },
 "nbformat": 4,
 "nbformat_minor": 2
}
