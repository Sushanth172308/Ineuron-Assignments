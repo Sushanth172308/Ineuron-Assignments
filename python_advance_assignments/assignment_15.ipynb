{
 "cells": [
  {
   "cell_type": "markdown",
   "metadata": {},
   "source": [
    "1. What are the new features added in Python 3.8 version?\n",
    "2. What is monkey patching in Python?\n",
    "3. What is the difference between a shallow copy and deep copy?\n",
    "4. What is the maximum possible length of an identifier?\n",
    "5. What is generator comprehension?"
   ]
  }
 ],
 "metadata": {
  "language_info": {
   "name": "python"
  },
  "orig_nbformat": 4
 },
 "nbformat": 4,
 "nbformat_minor": 2
}
