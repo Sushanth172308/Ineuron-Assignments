{
 "cells": [
  {
   "cell_type": "markdown",
   "metadata": {},
   "source": [
    "1. What is the result of the code, and explain?\n",
    "\n",
    "&gt;&gt;&gt; X = &#39;iNeuron&#39;\n",
    "&gt;&gt;&gt; def func():\n",
    "print(X)\n",
    "\n",
    "&gt;&gt;&gt; func()\n",
    "\n",
    "2. What is the result of the code, and explain?\n",
    "\n",
    "&gt;&gt;&gt; X = &#39;iNeuron&#39;\n",
    "&gt;&gt;&gt; def func():\n",
    "X = &#39;NI!&#39;\n",
    "\n",
    "&gt;&gt;&gt; func()\n",
    "&gt;&gt;&gt; print(X)\n",
    "\n",
    "3. What does this code print, and why?\n",
    "\n",
    "&gt;&gt;&gt; X = &#39;iNeuron&#39;\n",
    "&gt;&gt;&gt; def func():\n",
    "X = &#39;NI&#39;\n",
    "print(X)\n",
    "\n",
    "&gt;&gt;&gt; func()\n",
    "&gt;&gt;&gt; print(X)\n",
    "\n",
    "4. What output does this code produce? Why?\n",
    "\n",
    "&gt;&gt;&gt; X = &#39;iNeuron&#39;\n",
    "&gt;&gt;&gt; def func():\n",
    "global X\n",
    "X = &#39;NI&#39;\n",
    "\n",
    "&gt;&gt;&gt; func()\n",
    "&gt;&gt;&gt; print(X)\n",
    "\n",
    "5. What about this code—what’s the output, and why?\n",
    "\n",
    "&gt;&gt;&gt; X = &#39;iNeuron&#39;\n",
    "&gt;&gt;&gt; def func():\n",
    "X = &#39;NI&#39;\n",
    "def nested():\n",
    "print(X)\n",
    "nested()\n",
    "\n",
    "&gt;&gt;&gt; func()\n",
    "&gt;&gt;&gt; X\n",
    "\n",
    "6. How about this code: what is its output in Python 3, and explain?\n",
    "\n",
    "&gt;&gt;&gt; def func():\n",
    "X = &#39;NI&#39;\n",
    "def nested():\n",
    "nonlocal X\n",
    "X = &#39;Spam&#39;\n",
    "nested()\n",
    "print(X)\n",
    "\n",
    "&gt;&gt;&gt; func()"
   ]
  }
 ],
 "metadata": {
  "kernelspec": {
   "display_name": "Python 3.10.0 64-bit",
   "language": "python",
   "name": "python3"
  },
  "language_info": {
   "name": "python",
   "version": "3.10.0"
  },
  "orig_nbformat": 4,
  "vscode": {
   "interpreter": {
    "hash": "61f5b622e6612393ed173de0ff5b601e73ec78c653f01ccefd405aea4fff6d54"
   }
  }
 },
 "nbformat": 4,
 "nbformat_minor": 2
}
