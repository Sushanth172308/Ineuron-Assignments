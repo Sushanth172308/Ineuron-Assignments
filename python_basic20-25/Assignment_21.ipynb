{
 "cells": [
  {
   "cell_type": "markdown",
   "metadata": {},
   "source": [
    "1. Add the current date to the text file today.txt as a string.\n",
    "2. Read the text file today.txt into the string today_string\n",
    "3. Parse the date from today_string.\n",
    "4. List the files in your current directory\n",
    "5. Create a list of all of the files in your parent directory (minimum five files should be available).\n",
    "6. Use multiprocessing to create three separate processes. Make each one wait a random number of\n",
    "seconds between one and five, print the current time, and then exit.\n",
    "7. Create a date object of your day of birth.\n",
    "8. What day of the week was your day of birth?\n",
    "9. When will you be (or when were you) 10,000 days old?"
   ]
  }
 ],
 "metadata": {
  "kernelspec": {
   "display_name": "Python 3.10.0 64-bit",
   "language": "python",
   "name": "python3"
  },
  "language_info": {
   "name": "python",
   "version": "3.10.0"
  },
  "orig_nbformat": 4,
  "vscode": {
   "interpreter": {
    "hash": "61f5b622e6612393ed173de0ff5b601e73ec78c653f01ccefd405aea4fff6d54"
   }
  }
 },
 "nbformat": 4,
 "nbformat_minor": 2
}
