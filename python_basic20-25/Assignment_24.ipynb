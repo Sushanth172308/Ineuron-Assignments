{
 "cells": [
  {
   "cell_type": "markdown",
   "metadata": {},
   "source": [
    "1. What is the relationship between def statements and lambda expressions ?\n",
    "Answer: we use def statement  to create a normal function but lambda expressions are used to create Anonymous function.which can be assigned to variable and we can call using that variable in the function."
   ]
  },
  {
   "cell_type": "markdown",
   "metadata": {},
   "source": [
    "2. What is the benefit of lambda?\n",
    "Answer:The benefit of lambda are following.\n",
    "1.To create Nameless/Anonymous functions inside some complex functions if we are planning to use it only once.\n",
    "2.Moderate to small functions can be created in a single line\n",
    "3.Fuctions created using lambda expressions can be assigned to a variable and can be used by simply calling the variable"
   ]
  },
  {
   "cell_type": "markdown",
   "metadata": {},
   "source": [
    "3. Compare and contrast map, filter, and reduce.\n",
    "Answer:\n",
    "a.map(): This function is a type of higher-order. This function takes another function as a parameter\n",
    "along with a sequence of iterables and returns an output after applying the function to each iterable present in the sequen"
   ]
  },
  {
   "cell_type": "code",
   "execution_count": 2,
   "metadata": {},
   "outputs": [
    {
     "name": "stdout",
     "output_type": "stream",
     "text": [
      "Map function:-> [0, 2, 4, 6]\n",
      "Filter function:-> [1, 3]\n",
      "Reduce function:-> 15\n"
     ]
    }
   ],
   "source": [
    "from functools import reduce\n",
    "# map function\n",
    "print('Map function:->',list(map(lambda x:x+x, [0,1,2,3])))\n",
    "# fitler function\n",
    "print('Filter function:->',list(filter(lambda x:x%2 !=0, [0,1,2,3])))\n",
    "# reduce function\n",
    "print('Reduce function:->',reduce(lambda x,y:x+y, [0,1,2,3,4,5]))"
   ]
  },
  {
   "cell_type": "markdown",
   "metadata": {},
   "source": [
    "4. What are function annotations, and how are they used?\n",
    "Answer: \n",
    "Function annotations provide a way of associating various parts of a function with arbitrary pythoncexpressions at compile time.\n",
    "\n",
    "Annotations of simple parameters def func(x: expression, y: expression = 20):\n",
    "Whereas the annotations for excess parameters are as − def func (**args: expression, **kwargs: expression):\n"
   ]
  },
  {
   "cell_type": "markdown",
   "metadata": {},
   "source": [
    "5. What are recursive functions, and how are they used?\n",
    "Answer: A recursive function is a function that calls itself during its execution. The process may repeat several times, outputting the result and the end of each iteration\n"
   ]
  },
  {
   "cell_type": "markdown",
   "metadata": {},
   "source": [
    "6. What are some general design guidelines for coding functions?\n",
    "Ans:  These are some of the general design guidelines for coding functions are:\n",
    "\n",
    "a.Always use a docstring to explain the functionality of the function\n",
    "b.avoid using or limited use of global variables\n",
    "c.Proper Identation to increase the code readability\n",
    "d.try to follow a naming convention for function names (pascalCase or camelCase) and stick with the same convention throughout the application.\n",
    "e.Avoid using digits while choosing a variable name\n",
    "f.try to use a name for the function which conveys the purpose of the function\n",
    "g.Local variables should be named using camelCase format (ex: localVariable) whereas Global variables names should be using PascalCase (ex:GlobalVariable).\n",
    "h.Constant should be represented in allcaps (ex:CONSTANT).\n"
   ]
  },
  {
   "cell_type": "markdown",
   "metadata": {},
   "source": [
    "7. Name three or more ways that functions can communicate results to a caller.\n",
    "Answer:\n",
    "a. print\n",
    "b.return\n",
    "c.yield"
   ]
  }
 ],
 "metadata": {
  "kernelspec": {
   "display_name": "Python 3.10.0 64-bit",
   "language": "python",
   "name": "python3"
  },
  "language_info": {
   "codemirror_mode": {
    "name": "ipython",
    "version": 3
   },
   "file_extension": ".py",
   "mimetype": "text/x-python",
   "name": "python",
   "nbconvert_exporter": "python",
   "pygments_lexer": "ipython3",
   "version": "3.10.0"
  },
  "orig_nbformat": 4,
  "vscode": {
   "interpreter": {
    "hash": "61f5b622e6612393ed173de0ff5b601e73ec78c653f01ccefd405aea4fff6d54"
   }
  }
 },
 "nbformat": 4,
 "nbformat_minor": 2
}
